{
 "cells": [
  {
   "cell_type": "code",
   "execution_count": 144,
   "metadata": {},
   "outputs": [],
   "source": [
    "import os\n",
    "import numpy as np\n",
    "import cv2\n",
    "from sklearn.cluster import KMeans, MiniBatchKMeans\n",
    "from sklearn.metrics import accuracy_score\n",
    "from sklearn.model_selection import StratifiedKFold   \n",
    "import cv2"
   ]
  },
  {
   "cell_type": "code",
   "execution_count": 145,
   "metadata": {},
   "outputs": [],
   "source": [
    "def desSIFT(image):\n",
    "    sift = cv2.xfeatures2d.SIFT_create()\n",
    "    keypoints, descriptors = sift.detectAndCompute(image,None)\n",
    "    return keypoints, descriptors\n",
    "\n",
    "def describeORB(image):\n",
    "    orb = cv2.ORB_create()\n",
    "    keypoints, descriptors = orb.detectAndCompute(image,None)\n",
    "    return keypoints, descriptors\n",
    "\n",
    "def describeSURF(image):\n",
    "    surf = cv2.xfeatures2d.SURF_create()\n",
    "    # it is better to have this value between 300 and 500\n",
    "    surf.setHessianThreshold(400)\n",
    "    keypoints, descriptors = surf.detectAndCompute(image,None)\n",
    "    return keypoints, descriptors"
   ]
  },
  {
   "cell_type": "code",
   "execution_count": 146,
   "metadata": {},
   "outputs": [],
   "source": [
    "def read_images(path, folders):\n",
    "    images = []\n",
    "    labels = []\n",
    "    idx = 0\n",
    "    for folder in folders:\n",
    "        for filename in os.listdir(path+folder):\n",
    "            image = cv2.imread(os.path.join(path+folder, filename))\n",
    "            if image is not None:\n",
    "                images.append(image)\n",
    "                labels.append(idx)\n",
    "                \n",
    "        idx += 1\n",
    "    images = np.array(images)\n",
    "    labels = np.array(labels)\n",
    "    return images, labels"
   ]
  },
  {
   "cell_type": "code",
   "execution_count": 147,
   "metadata": {},
   "outputs": [],
   "source": [
    "def getDescriptors(images) : \n",
    "    descriptors = []\n",
    "    \n",
    "    for image in images : \n",
    "        gray_image = cv2.cvtColor(image, cv2.COLOR_RGB2GRAY)\n",
    "        gray_image = cv2.resize(image, (150, 150), interpolation=cv2.INTER_AREA)\n",
    "        keypoint, descriptor = describeSURF(gray_image)\n",
    "        if descriptor is not None : \n",
    "            descriptors.extend(descriptor)\n",
    "            \n",
    "    descriptors = np.asarray(descriptors)    \n",
    "    return descriptors"
   ]
  },
  {
   "cell_type": "code",
   "execution_count": 148,
   "metadata": {},
   "outputs": [],
   "source": [
    "def getVLADDescriptors(images, image_labels, visualDic):\n",
    "    descriptors = []\n",
    "    labels = []\n",
    "    \n",
    "    idx = 0\n",
    "    for image in images : \n",
    "        gray_image = cv2.cvtColor(image, cv2.COLOR_RGB2GRAY)\n",
    "        gray_image = cv2.resize(image, (150, 150), interpolation=cv2.INTER_AREA)\n",
    "        keypoint, descriptor = describeSURF(gray_image)\n",
    "        if descriptor is not None : \n",
    "            v = VLAD(descriptor, visualDic)\n",
    "            descriptors.append(v)\n",
    "            labels.append([image_labels[idx]])\n",
    "        idx += 1\n",
    "            \n",
    "    descriptors = np.asarray(descriptors)\n",
    "    labels = np.array(labels).astype(np.float32)\n",
    "        \n",
    "    return descriptors, labels"
   ]
  },
  {
   "cell_type": "code",
   "execution_count": 149,
   "metadata": {},
   "outputs": [],
   "source": [
    "def VLAD(X, visualDictionary) : \n",
    "    \n",
    "    predictedLabels = visualDictionary.predict(X)\n",
    "    centers = visualDictionary.cluster_centers_\n",
    "    labels = visualDictionary.labels_\n",
    "    k = visualDictionary.n_clusters\n",
    "    \n",
    "    m,d = X.shape\n",
    "    V=np.zeros([k,d])\n",
    "    #computing the differences\n",
    "\n",
    "    # for all the clusters (visual words)\n",
    "    for i in range(k):\n",
    "        # if there is at least one descriptor in that cluster\n",
    "        if np.sum(predictedLabels==i)>0:\n",
    "            # add the diferences\n",
    "            V[i]=np.sum(X[predictedLabels==i,:]-centers[i],axis=0)\n",
    "    \n",
    "\n",
    "    V = V.flatten()\n",
    "    # power normalization, also called square-rooting normalization\n",
    "    V = np.sign(V)*np.sqrt(np.abs(V))\n",
    "\n",
    "    # L2 normalization\n",
    "\n",
    "    V = V/np.sqrt(np.dot(V,V))\n",
    "    return V\n"
   ]
  },
  {
   "cell_type": "code",
   "execution_count": 150,
   "metadata": {},
   "outputs": [],
   "source": [
    "# images, labels = read_images(\"../../../Assignment2/Panorama-BOVW/SIFT-SURF/\",[\"Bikes\", \"Horses\"])\n",
    "images, labels = read_images(\"../../../Assignment2/Panorama-BOVW/SIFT-SURF/cifar-10/\",[\"airplane\", \"automobile\", \"bird\", \"cat\", \"deer\", \"dog\", \"frog\", \"horse\", \"ship\", \"truck\"])"
   ]
  },
  {
   "cell_type": "code",
   "execution_count": 151,
   "metadata": {},
   "outputs": [],
   "source": [
    "sift_des = getDescriptors(images)"
   ]
  },
  {
   "cell_type": "code",
   "execution_count": 152,
   "metadata": {},
   "outputs": [],
   "source": [
    "visDic = MiniBatchKMeans(init='k-means++', n_clusters=8,max_iter=1000, batch_size=1000, n_init=10, max_no_improvement=10, verbose=0).fit(sift_des)"
   ]
  },
  {
   "cell_type": "code",
   "execution_count": 153,
   "metadata": {},
   "outputs": [
    {
     "name": "stdout",
     "output_type": "stream",
     "text": [
      "[0 0 0 ... 9 9 9]\n",
      "CV # -  0\n",
      "Hola\n",
      "CV # -  1\n",
      "Hola\n",
      "CV # -  2\n",
      "Hola\n",
      "CV # -  3\n",
      "Hola\n",
      "CV # -  4\n",
      "Hola\n",
      "CV # -  5\n",
      "Hola\n"
     ]
    }
   ],
   "source": [
    "X = images\n",
    "y = labels\n",
    "print(labels)\n",
    "cv = StratifiedKFold(n_splits=6, random_state=42)\n",
    "\n",
    "scores = []\n",
    "count = 0\n",
    "for train_ind, validate_ind in cv.split(X, y):\n",
    "    print(\"CV # - \", count)\n",
    "    count += 1\n",
    "    train_X, train_y = X[train_ind], y[train_ind]\n",
    "    validate_X, validate_y = X[validate_ind], y[validate_ind]\n",
    "    \n",
    "    vlad_des, vlad_labels = getVLADDescriptors(train_X, train_y, visDic)\n",
    "    print (\"Hola\")\n",
    "\n",
    "    vlad_des_test, vlad_labels_test = getVLADDescriptors(validate_X, validate_y, visDic)\n",
    "    clf = cv2.ml.KNearest_create()\n",
    "    clf.train(np.float32(vlad_des), cv2.ml.ROW_SAMPLE, vlad_labels)\n",
    "    ret, results, neighbours, dist = clf.findNearest(np.float32(vlad_des_test), k=240)\n",
    "    score = accuracy_score(results, vlad_labels_test)\n",
    "    scores.append(score)\n"
   ]
  },
  {
   "cell_type": "code",
   "execution_count": 154,
   "metadata": {},
   "outputs": [
    {
     "name": "stdout",
     "output_type": "stream",
     "text": [
      "0.31935\n"
     ]
    }
   ],
   "source": [
    "final_score = sum(scores)/len(scores)\n",
    "print(final_score)"
   ]
  },
  {
   "cell_type": "code",
   "execution_count": 155,
   "metadata": {},
   "outputs": [
    {
     "name": "stdout",
     "output_type": "stream",
     "text": [
      "[0.3194, 0.3185, 0.3177, 0.3207, 0.3197, 0.3201]\n"
     ]
    }
   ],
   "source": [
    "print(scores)"
   ]
  },
  {
   "cell_type": "code",
   "execution_count": 156,
   "metadata": {},
   "outputs": [
    {
     "data": {
      "text/plain": [
       "'\\nSIFT\\nCV scores for k = 8:\\n[0.3082, 0.31299389816945083, 0.31373137313731375, 0.3086926077823347, 0.31273127312731275, 0.3111622324464893]\\nAverage: 0.31125189744381687\\nCV scores for k = 10:\\n[0.3064, 0.30359107732319696, 0.3084308430843084, 0.3170951285385616, 0.30243024302430244, 0.3078615723144629]\\nAverage: 0.30763481071413873\\nCV scores for k = 15:\\n[0.2981, 0.30069020706211863, 0.30813081308130813, 0.30419125737721314, 0.30823082308230826, 0.30406081216243247]\\nAverage: 0.30390065212756345\\nCV scores for k = 50:\\n[0.286, 0.2882864859457837, 0.29222922292229225, 0.29268780634190256, 0.29322932293229326, 0.2996599319863973]\\nAverage: 0.2920154616881115\\n'"
      ]
     },
     "execution_count": 156,
     "metadata": {},
     "output_type": "execute_result"
    }
   ],
   "source": [
    "\"\"\"\n",
    "SIFT\n",
    "CV scores for k = 8:\n",
    "[0.3082, 0.31299389816945083, 0.31373137313731375, 0.3086926077823347, 0.31273127312731275, 0.3111622324464893]\n",
    "Average: 0.31125189744381687\n",
    "CV scores for k = 10:\n",
    "[0.3064, 0.30359107732319696, 0.3084308430843084, 0.3170951285385616, 0.30243024302430244, 0.3078615723144629]\n",
    "Average: 0.30763481071413873\n",
    "CV scores for k = 15:\n",
    "[0.2981, 0.30069020706211863, 0.30813081308130813, 0.30419125737721314, 0.30823082308230826, 0.30406081216243247]\n",
    "Average: 0.30390065212756345\n",
    "CV scores for k = 50:\n",
    "[0.286, 0.2882864859457837, 0.29222922292229225, 0.29268780634190256, 0.29322932293229326, 0.2996599319863973]\n",
    "Average: 0.2920154616881115\n",
    "\"\"\""
   ]
  },
  {
   "cell_type": "code",
   "execution_count": 157,
   "metadata": {},
   "outputs": [
    {
     "data": {
      "text/plain": [
       "'\\nSURF\\nCV scores for k = 8:\\n[0.3008, 0.3071, 0.2954, 0.3115, 0.3092, 0.3091]\\nAverage: 0.3055166666666666\\nCV scores for k = 10:\\n[0.3034, 0.3088, 0.3095, 0.3082, 0.3086, 0.3087]\\nAverage: 0.3078666666666667\\nCV scores for k = 15:\\n[0.3058, 0.309, 0.3135, 0.3115, 0.3049, 0.3118]\\nAverage: 0.3094166666666667\\nCV scores for k = 50:\\n[0.3062, 0.2961, 0.2999, 0.3065, 0.3055, 0.3028]\\nAverage: 0.30283333333333334\\n'"
      ]
     },
     "execution_count": 157,
     "metadata": {},
     "output_type": "execute_result"
    }
   ],
   "source": [
    "\"\"\"\n",
    "SURF\n",
    "CV scores for k = 8:\n",
    "[0.3008, 0.3071, 0.2954, 0.3115, 0.3092, 0.3091]\n",
    "Average: 0.3055166666666666\n",
    "CV scores for k = 10:\n",
    "[0.3034, 0.3088, 0.3095, 0.3082, 0.3086, 0.3087]\n",
    "Average: 0.3078666666666667\n",
    "CV scores for k = 15:\n",
    "[0.3058, 0.309, 0.3135, 0.3115, 0.3049, 0.3118]\n",
    "Average: 0.3094166666666667\n",
    "CV scores for k = 50:\n",
    "[0.3062, 0.2961, 0.2999, 0.3065, 0.3055, 0.3028]\n",
    "Average: 0.30283333333333334\n",
    "\"\"\""
   ]
  },
  {
   "cell_type": "code",
   "execution_count": 158,
   "metadata": {},
   "outputs": [
    {
     "data": {
      "text/plain": [
       "'\\nSURF knn = 200:\\nk = 10:\\n0.3234666666666666\\n[0.3179, 0.3242, 0.3214, 0.3269, 0.3236, 0.3268]\\nSURF knn = 240:\\nk = 10:\\n0.3251\\n[0.3172, 0.3274, 0.3225, 0.329, 0.3229, 0.3316]\\nk = 15:\\n0.32504999999999995\\n[0.3189, 0.3268, 0.3231, 0.3293, 0.3212, 0.331]\\n'"
      ]
     },
     "execution_count": 158,
     "metadata": {},
     "output_type": "execute_result"
    }
   ],
   "source": [
    "\"\"\"\n",
    "SURF knn = 200:\n",
    "k = 10:\n",
    "0.3234666666666666\n",
    "[0.3179, 0.3242, 0.3214, 0.3269, 0.3236, 0.3268]\n",
    "SURF knn = 240:\n",
    "k = 8:\n",
    "0.31935\n",
    "[0.3194, 0.3185, 0.3177, 0.3207, 0.3197, 0.3201]\n",
    "k = 10:\n",
    "0.3251\n",
    "[0.3172, 0.3274, 0.3225, 0.329, 0.3229, 0.3316]\n",
    "k = 15:\n",
    "0.32504999999999995\n",
    "[0.3189, 0.3268, 0.3231, 0.3293, 0.3212, 0.331]\n",
    "\"\"\""
   ]
  },
  {
   "cell_type": "code",
   "execution_count": 1,
   "metadata": {},
   "outputs": [],
   "source": [
    "accuracies = [0.30786,0.3283,0.3308,0.332,0.3306,0.3294,0.32346,0.31935]\n",
    "neighbors = [10,35,50,75,100,150,200,240]"
   ]
  },
  {
   "cell_type": "code",
   "execution_count": 5,
   "metadata": {},
   "outputs": [],
   "source": [
    "import matplotlib.pyplot as plt"
   ]
  },
  {
   "cell_type": "code",
   "execution_count": 9,
   "metadata": {},
   "outputs": [
    {
     "data": {
      "text/plain": [
       "[<matplotlib.lines.Line2D at 0x7f2e2a338610>]"
      ]
     },
     "execution_count": 9,
     "metadata": {},
     "output_type": "execute_result"
    },
    {
     "data": {
      "image/png": "[encoded data removed]",
      "text/plain": [
       "<Figure size 432x288 with 1 Axes>"
      ]
     },
     "metadata": {
      "needs_background": "light"
     },
     "output_type": "display_data"
    }
   ],
   "source": [
    "plt.xlabel(\"no. of neighbors\")\n",
    "plt.ylabel(\"accuracy\")\n",
    "plt.plot(neighbors, accuracies, 'go--', linewidth=2, markersize=12)"
   ]
  },
  {
   "cell_type": "code",
   "execution_count": null,
   "metadata": {},
   "outputs": [],
   "source": []
  }
 ],
 "metadata": {
  "kernelspec": {
   "display_name": "Python 3",
   "language": "python",
   "name": "python3"
  },
  "language_info": {
   "codemirror_mode": {
    "name": "ipython",
    "version": 3
   },
   "file_extension": ".py",
   "mimetype": "text/x-python",
   "name": "python",
   "nbconvert_exporter": "python",
   "pygments_lexer": "ipython3",
   "version": "3.5.6"
  }
 },
 "nbformat": 4,
 "nbformat_minor": 2
}
