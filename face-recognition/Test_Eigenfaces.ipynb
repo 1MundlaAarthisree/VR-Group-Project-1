{
 "cells": [
  {
   "cell_type": "code",
   "execution_count": 60,
   "metadata": {},
   "outputs": [],
   "source": [
    "import numpy as np\n",
    "import cv2\n",
    "import matplotlib.pyplot as plt"
   ]
  },
  {
   "cell_type": "code",
   "execution_count": 61,
   "metadata": {},
   "outputs": [],
   "source": [
    "def normalized(a, axis=-1, order=2):\n",
    "    l2 = np.atleast_1d(np.linalg.norm(a, order, axis))\n",
    "    l2[l2==0] = 1\n",
    "    return a / np.expand_dims(l2, axis)"
   ]
  },
  {
   "cell_type": "code",
   "execution_count": 62,
   "metadata": {},
   "outputs": [],
   "source": [
    "def flatten_image_vectors(image):\n",
    "    \"\"\"\n",
    "    Takes in the image as np array of size 256x256 pixels and returns an np array of sixe 1 x (256x256)\n",
    "    \"\"\"\n",
    "    #Resize each image to 256 x 256 (sanity check)\n",
    "#     image = cv2.resize(image, (256,256), interpolation = cv2.INTER_AREA) \n",
    "    return image.flatten()"
   ]
  },
  {
   "cell_type": "code",
   "execution_count": 63,
   "metadata": {},
   "outputs": [],
   "source": [
    "def stack_vectors(images):\n",
    "    stack = []\n",
    "    for img in images:\n",
    "        #Size of the image is 65536 x 1\n",
    "        img = flatten_image_vectors(img)\n",
    "        #Convert size of the image to 65536 x 1\n",
    "        img = normalized(img,0).T\n",
    "\n",
    "        stack.append(np.array(img))\n",
    "    #Size of the stack is (563, 65536)\n",
    "    stack = np.squeeze(np.array(stack),axis=2)\n",
    "    return stack\n"
   ]
  },
  {
   "cell_type": "code",
   "execution_count": 64,
   "metadata": {},
   "outputs": [],
   "source": [
    "def compute_mean_vector(stack):\n",
    "    mean_vector = []\n",
    "    for var in range(stack.shape[0]):\n",
    "        mean = np.mean(stack[var, :])\n",
    "        mean_vector.append(mean)\n",
    "    \n",
    "    return np.array(mean_vector)\n",
    "\n",
    "def compute_mean_image(stack):\n",
    "    return compute_mean_vector(stack.T)"
   ]
  },
  {
   "cell_type": "code",
   "execution_count": 65,
   "metadata": {},
   "outputs": [],
   "source": [
    "def compute_scatter_matrix(stack, mean_vector):\n",
    "    scatter_matrix = np.zeros((mean_vector.shape[0],mean_vector.shape[0]))\n",
    "    for var in range(stack.shape[1]):\n",
    "        scatter_matrix += (stack[:,var].reshape(mean_vector.shape[0],1) - mean_vector).dot((stack[:,var].reshape(mean_vector.shape[0],1) - mean_vector).T)\n",
    "\n",
    "    return scatter_matrix"
   ]
  },
  {
   "cell_type": "code",
   "execution_count": 66,
   "metadata": {},
   "outputs": [],
   "source": [
    "def compute_covariance_matrix(stack):\n",
    "    cov_matrix = []\n",
    "    for var in range(stack.shape[0]):\n",
    "        cov_matrix.append(stack[var, :])\n",
    "\n",
    "    return np.cov(cov_matrix)"
   ]
  },
  {
   "cell_type": "code",
   "execution_count": 67,
   "metadata": {},
   "outputs": [],
   "source": [
    "def get_eigenvecs_vals(matrix):\n",
    "    eigenvals, eigenvecs = np.linalg.eig(matrix)\n",
    "    return eigenvals, eigenvecs\n"
   ]
  },
  {
   "cell_type": "code",
   "execution_count": 68,
   "metadata": {},
   "outputs": [],
   "source": [
    "def sort_eigenvec_by_eigenval(eigenvals, eigenvecs):\n",
    "    \"\"\"\n",
    "    1. Make a list of (eigenvalue, eigenvector) tuples\n",
    "    2. Sort the (eigenvalue, eigenvector) tuples from high to low\n",
    "    \"\"\"\n",
    "    eig_pairs = [(np.abs(eigenvals[i]), eigenvecs[:,i]) for i in range(len(eigenvals))]\n",
    "    eig_pairs.sort(key=lambda x: x[0], reverse=True)\n",
    "\n",
    "    return  eig_pairs\n"
   ]
  },
  {
   "cell_type": "code",
   "execution_count": 69,
   "metadata": {},
   "outputs": [],
   "source": [
    "def compute_covariance_matrix(stack):\n",
    "    cov_matrix = []\n",
    "    for var in range(stack.shape[0]):\n",
    "        cov_matrix.append(stack[var, :])\n",
    "\n",
    "    return np.cov(np.array(cov_matrix))"
   ]
  },
  {
   "cell_type": "code",
   "execution_count": 70,
   "metadata": {},
   "outputs": [],
   "source": [
    "def choose_k_eigenvecs(eig_pairs, k, image_stack):\n",
    "    stack_tuple = (eig_pairs[0][1].reshape(eig_pairs[0][1].shape[0],1),)\n",
    "    for var in range(1,k):\n",
    "        stack_tuple += (eig_pairs[var][1].reshape(eig_pairs[var][1].shape[0],1),)\n",
    "\n",
    "    matrix_w = np.hstack(stack_tuple)\n",
    "    print(\"eig_pairs[var][1].shape[0] : \",eig_pairs[var][1].shape[0])\n",
    "    for var in range(image_stack.shape[1]-eig_pairs[var][1].shape[0]):\n",
    "        matrix_w = np.append(matrix_w, np.array([np.zeros(k)]), axis=0)\n",
    "    print(matrix_w)\n",
    "    \n",
    "    print(\"Shape of the matrix W is {}\".format(matrix_w.shape))\n",
    "    return matrix_w\n"
   ]
  },
  {
   "cell_type": "code",
   "execution_count": 71,
   "metadata": {},
   "outputs": [],
   "source": [
    "def get_transformed_images(matrix_w,stack):\n",
    "    \"\"\"\n",
    "    The dimension of the transformed matrix k x number_of_images  \n",
    "    \"\"\"\n",
    "    transformed = matrix_w.T.dot(stack)\n",
    "    print(\"Shape of the transformed matrix is {}\".format(transformed.shape))\n",
    "    return transformed.T"
   ]
  },
  {
   "cell_type": "code",
   "execution_count": 72,
   "metadata": {},
   "outputs": [],
   "source": [
    "def find_closest_image(transformed, matrix_w, image, mean_vector):\n",
    "    img = flatten_image_vectors(image)\n",
    "    img = normalized(img,0).T\n",
    "    img = np.squeeze(img, axis=1)\n",
    "    print(\"image: \",img)\n",
    "    print(\"mean_image: \",mean_vector)\n",
    "#     img = img - mean_vector\n",
    "    print(\"image after subtracting mean: \",img)\n",
    "    y_hat = matrix_w.T.dot(img)\n",
    "#     reconstruct_image(matrix_w, y_hat, mean_image)\n",
    "    print(y_hat)\n",
    "    print(\"transformed[0]: \", transformed[0])\n",
    "    print(\"y_hat - transformed[0]: \", y_hat-transformed[0])\n",
    "    \n",
    "    argmin = np.linalg.norm(y_hat-transformed[0])\n",
    "    image_id = 0\n",
    "    \n",
    "    top_10_max_vals = [argmin for _ in range(10)]\n",
    "    top_10_closest_img = [image_id for _ in range(10)]\n",
    "    for var in range(1, transformed.shape[0]):\n",
    "        dist = np.linalg.norm(y_hat-transformed[var])\n",
    "        for arg in range(1,len(top_10_max_vals)):\n",
    "            if dist < top_10_max_vals[arg]:\n",
    "                top_10_max_vals[arg-1] = top_10_max_vals[arg]\n",
    "                top_10_max_vals[arg] = dist\n",
    "                top_10_closest_img[arg-1] = top_10_closest_img[arg]\n",
    "                top_10_closest_img[arg] = var\n",
    "                break\n",
    "    print(\"max vals: \",top_10_max_vals)\n",
    "\n",
    "    return image_id"
   ]
  },
  {
   "cell_type": "code",
   "execution_count": 73,
   "metadata": {},
   "outputs": [],
   "source": [
    "def sort_eigenvec_by_eigenval(eigenvals, eigenvecs):\n",
    "    \"\"\"\n",
    "    1. Make a list of (eigenvalue, eigenvector) tuples\n",
    "    2. Sort the (eigenvalue, eigenvector) tuples from high to low\n",
    "    \"\"\"\n",
    "    eig_pairs = [(np.abs(eigenvals[i]), eigenvecs[:,i]) for i in range(len(eigenvals))]\n",
    "    eig_pairs.sort(key=lambda x: x[0], reverse=True)\n",
    "\n",
    "    return  eig_pairs"
   ]
  },
  {
   "cell_type": "code",
   "execution_count": 74,
   "metadata": {},
   "outputs": [],
   "source": [
    "def reconstruct_image(matrix_w, eigencoeff, mean_image):\n",
    "    image = matrix_w.dot(eigencoeff) \n",
    "    image = (image * 256).astype(int)\n",
    "    image = image.reshape(2,2)\n",
    "    cv2.imwrite(\"image.jpg\",image)\n",
    "    print(\"reconstructed: \",image)"
   ]
  },
  {
   "cell_type": "code",
   "execution_count": 75,
   "metadata": {},
   "outputs": [],
   "source": [
    "IMG_THRESHOLD = 15\n",
    "k = 2"
   ]
  },
  {
   "cell_type": "code",
   "execution_count": 76,
   "metadata": {},
   "outputs": [],
   "source": [
    "images = np.array([[1, 2, 3, 4], [4, 5, 6, 7], [7, 8, 9, 1]])"
   ]
  },
  {
   "cell_type": "code",
   "execution_count": 77,
   "metadata": {},
   "outputs": [
    {
     "name": "stdout",
     "output_type": "stream",
     "text": [
      "(3, 4)\n",
      "(3, 3)\n",
      "(3, 3)\n"
     ]
    }
   ],
   "source": [
    "image_stack = stack_vectors(images)\n",
    "print(image_stack.shape)\n",
    "mean_vector = compute_mean_vector(image_stack)\n",
    "mean_image = compute_mean_image(image_stack)\n",
    "scatter_matrix = compute_scatter_matrix(image_stack,mean_vector)\n",
    "print(scatter_matrix.shape)\n",
    "cov_matrix = compute_covariance_matrix(image_stack)\n",
    "print(cov_matrix.shape)"
   ]
  },
  {
   "cell_type": "code",
   "execution_count": 78,
   "metadata": {},
   "outputs": [
    {
     "name": "stdout",
     "output_type": "stream",
     "text": [
      "eig_pairs[var][1].shape[0] :  3\n",
      "[[-0.64295127 -0.62562014]\n",
      " [-0.31955425 -0.30514273]\n",
      " [ 0.69605944 -0.71797449]\n",
      " [ 0.          0.        ]]\n",
      "Shape of the matrix W is (4, 2)\n",
      "eig_pairs[var][1].shape[0] :  3\n",
      "[[-0.64521434 -0.62561231]\n",
      " [-0.31483236 -0.30526755]\n",
      " [ 0.69611712 -0.71792824]\n",
      " [ 0.          0.        ]]\n",
      "Shape of the matrix W is (4, 2)\n",
      "Shape of the transformed matrix is (2, 3)\n",
      "Shape of the transformed matrix is (2, 3)\n"
     ]
    }
   ],
   "source": [
    "# eigenvectors and eigenvalues for the from the scatter matrix\n",
    "eig_val_sc, eig_vec_sc = get_eigenvecs_vals(scatter_matrix)\n",
    "\n",
    "# eigenvectors and eigenvalues for the from the covariance matrix\n",
    "eig_val_cov, eig_vec_cov = get_eigenvecs_vals(cov_matrix)\n",
    "\n",
    "eig_pairs1 = sort_eigenvec_by_eigenval(eig_val_sc, eig_vec_sc)\n",
    "eig_pairs2 = sort_eigenvec_by_eigenval(eig_val_cov, eig_vec_cov)\n",
    "\n",
    "matrix_w_1 = choose_k_eigenvecs(eig_pairs1, k, image_stack)\n",
    "matrix_w_2 = choose_k_eigenvecs(eig_pairs2, k, image_stack)\n",
    "\n",
    "transformed1 = get_transformed_images(matrix_w_1, image_stack.T)\n",
    "transformed2 = get_transformed_images(matrix_w_2, image_stack.T)"
   ]
  },
  {
   "cell_type": "code",
   "execution_count": 79,
   "metadata": {},
   "outputs": [
    {
     "name": "stdout",
     "output_type": "stream",
     "text": [
      "image:  [0.52467218 0.59962535 0.59962535 0.07495317]\n",
      "mean_image:  [0.34673431 0.46115856 0.57558281 0.4751726 ]\n",
      "image after subtracting mean:  [0.52467218 0.59962535 0.59962535 0.07495317]\n",
      "[-0.11157659 -0.9417325 ]\n",
      "transformed[0]:  [ 0.14717644 -0.61889528]\n",
      "y_hat - transformed[0]:  [-0.25875303 -0.32283722]\n",
      "max vals:  [0.22852763329520334, 0.055625380826017125, 0.4137354241948184, 0.4137354241948184, 0.4137354241948184, 0.4137354241948184, 0.4137354241948184, 0.4137354241948184, 0.4137354241948184, 0.4137354241948184]\n"
     ]
    }
   ],
   "source": [
    "img_id1 = find_closest_image(transformed1, matrix_w_1, np.array([7, 8, 8, 1]), mean_image)"
   ]
  },
  {
   "cell_type": "code",
   "execution_count": 80,
   "metadata": {},
   "outputs": [
    {
     "name": "stdout",
     "output_type": "stream",
     "text": [
      "0\n"
     ]
    }
   ],
   "source": [
    "print(img_id1)"
   ]
  },
  {
   "cell_type": "code",
   "execution_count": 81,
   "metadata": {},
   "outputs": [],
   "source": [
    "#images = np.array([[1, 2, 3, 4], [4, 5, 6, 7], [7, 8, 9, 1], [4, 6, 6, 7], [7, 8, 7, 1], [8, 5, 6, 7], [7, 8, 1, 1], [4, 5, 6, 10], [2, 8, 9, 1], [1, 5, 6, 3], [2, 8, 2, 1]])"
   ]
  },
  {
   "cell_type": "code",
   "execution_count": null,
   "metadata": {},
   "outputs": [],
   "source": []
  }
 ],
 "metadata": {
  "kernelspec": {
   "display_name": "Python 3",
   "language": "python",
   "name": "python3"
  },
  "language_info": {
   "codemirror_mode": {
    "name": "ipython",
    "version": 3
   },
   "file_extension": ".py",
   "mimetype": "text/x-python",
   "name": "python",
   "nbconvert_exporter": "python",
   "pygments_lexer": "ipython3",
   "version": "3.7.4"
  }
 },
 "nbformat": 4,
 "nbformat_minor": 2
}
