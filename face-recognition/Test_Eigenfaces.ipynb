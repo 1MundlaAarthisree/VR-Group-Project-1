{
 "cells": [
  {
   "cell_type": "code",
   "execution_count": 586,
   "metadata": {},
   "outputs": [],
   "source": [
    "import numpy as np\n",
    "import cv2"
   ]
  },
  {
   "cell_type": "code",
   "execution_count": 587,
   "metadata": {},
   "outputs": [],
   "source": [
    "def normalized(a, axis=-1, order=2):\n",
    "    l2 = np.atleast_1d(np.linalg.norm(a, order, axis))\n",
    "    l2[l2==0] = 1\n",
    "    return a / np.expand_dims(l2, axis)"
   ]
  },
  {
   "cell_type": "code",
   "execution_count": 588,
   "metadata": {},
   "outputs": [],
   "source": [
    "def flatten_image_vectors(image):\n",
    "    \"\"\"\n",
    "    Takes in the image as np array of size 256x256 pixels and returns an np array of sixe 1 x (256x256)\n",
    "    \"\"\"\n",
    "    #Resize each image to 256 x 256 (sanity check)\n",
    "#     image = cv2.resize(image, (256,256), interpolation = cv2.INTER_AREA) \n",
    "    return image.flatten()"
   ]
  },
  {
   "cell_type": "code",
   "execution_count": 589,
   "metadata": {},
   "outputs": [],
   "source": [
    "def stack_vectors(images):\n",
    "    stack = []\n",
    "    for img in images:\n",
    "        #Size of the image is 65536 x 1\n",
    "        img = flatten_image_vectors(img)\n",
    "        #Convert size of the image to 65536 x 1\n",
    "        img = normalized(img,0).T\n",
    "\n",
    "        stack.append(np.array(img))\n",
    "    #Size of the stack is (563, 65536)\n",
    "    stack = np.squeeze(np.array(stack),axis=2)\n",
    "    return stack\n"
   ]
  },
  {
   "cell_type": "code",
   "execution_count": 590,
   "metadata": {},
   "outputs": [],
   "source": [
    "def compute_mean_vector(stack):\n",
    "    mean_vector = []\n",
    "    for var in range(stack.shape[0]):\n",
    "        mean = np.mean(stack[var, :])\n",
    "        mean_vector.append(mean)\n",
    "    \n",
    "    return np.array(mean_vector)"
   ]
  },
  {
   "cell_type": "code",
   "execution_count": 591,
   "metadata": {},
   "outputs": [],
   "source": [
    "def compute_scatter_matrix(stack, mean_vector):\n",
    "    scatter_matrix = np.zeros((mean_vector.shape[0],mean_vector.shape[0]))\n",
    "    for var in range(stack.shape[1]):\n",
    "        scatter_matrix += (stack[:,var].reshape(mean_vector.shape[0],1) - mean_vector).dot((stack[:,var].reshape(mean_vector.shape[0],1) - mean_vector).T)\n",
    "\n",
    "    return scatter_matrix"
   ]
  },
  {
   "cell_type": "code",
   "execution_count": 592,
   "metadata": {},
   "outputs": [],
   "source": [
    "def compute_covariance_matrix(stack):\n",
    "    cov_matrix = []\n",
    "    for var in range(stack.shape[0]):\n",
    "        cov_matrix.append(stack[var, :])\n",
    "\n",
    "    return np.cov(cov_matrix)"
   ]
  },
  {
   "cell_type": "code",
   "execution_count": 593,
   "metadata": {},
   "outputs": [],
   "source": [
    "def get_eigenvecs_vals(matrix):\n",
    "    eigenvals, eigenvecs = np.linalg.eig(matrix)\n",
    "    return eigenvals, eigenvecs\n"
   ]
  },
  {
   "cell_type": "code",
   "execution_count": 594,
   "metadata": {},
   "outputs": [],
   "source": [
    "def sort_eigenvec_by_eigenval(eigenvals, eigenvecs):\n",
    "    \"\"\"\n",
    "    1. Make a list of (eigenvalue, eigenvector) tuples\n",
    "    2. Sort the (eigenvalue, eigenvector) tuples from high to low\n",
    "    \"\"\"\n",
    "    eig_pairs = [(np.abs(eigenvals[i]), eigenvecs[:,i]) for i in range(len(eigenvals))]\n",
    "    eig_pairs.sort(key=lambda x: x[0], reverse=True)\n",
    "\n",
    "    return  eig_pairs\n"
   ]
  },
  {
   "cell_type": "code",
   "execution_count": 595,
   "metadata": {},
   "outputs": [],
   "source": [
    "def compute_covariance_matrix(stack):\n",
    "    cov_matrix = []\n",
    "    for var in range(stack.shape[0]):\n",
    "        cov_matrix.append(stack[var, :])\n",
    "\n",
    "    return np.cov(np.array(cov_matrix))"
   ]
  },
  {
   "cell_type": "code",
   "execution_count": 596,
   "metadata": {},
   "outputs": [],
   "source": [
    "def choose_k_eigenvecs(eig_pairs, k, image_stack):\n",
    "    stack_tuple = (eig_pairs[0][1].reshape(eig_pairs[0][1].shape[0],1),)\n",
    "    for var in range(1,k):\n",
    "        stack_tuple += (eig_pairs[var][1].reshape(eig_pairs[var][1].shape[0],1),)\n",
    "\n",
    "    matrix_w = np.hstack(stack_tuple)\n",
    "#     print(\"eig_pairs[var][1].shape[0] : \",eig_pairs[var][1].shape[0])\n",
    "#     for var in range(image_stack.shape[1]-eig_pairs[var][1].shape[0]):\n",
    "#         matrix_w = np.append(matrix_w, np.array([np.zeros(k)]), axis=0)\n",
    "    print(matrix_w)\n",
    "    \n",
    "    print(\"Shape of the matrix W is {}\".format(matrix_w.shape))\n",
    "    return matrix_w\n"
   ]
  },
  {
   "cell_type": "code",
   "execution_count": 597,
   "metadata": {},
   "outputs": [],
   "source": [
    "def get_transformed_images(matrix_w,stack):\n",
    "    \"\"\"\n",
    "    The dimension of the transformed matrix k x number_of_images  \n",
    "    \"\"\"\n",
    "    transformed = matrix_w.T.dot(stack)\n",
    "    print(\"Shape of the transformed matrix is {}\".format(transformed.shape))\n",
    "    return transformed.T"
   ]
  },
  {
   "cell_type": "code",
   "execution_count": 598,
   "metadata": {},
   "outputs": [],
   "source": [
    "def find_closest_image(transformed, matrix_w, image):\n",
    "    img = flatten_image_vectors(image)\n",
    "    img = normalized(img,0).T\n",
    "    print(img)\n",
    "    y_hat = matrix_w.T.dot(img)\n",
    "    print(y_hat)\n",
    "    argmin = np.linalg.norm(y_hat-transformed[0])\n",
    "    image_id = 0\n",
    "    for var in range(1, transformed.shape[0]):\n",
    "        dist = np.linalg.norm(y_hat-transformed[var])\n",
    "        if dist < argmin:\n",
    "            argmin = dist\n",
    "            image_id = var\n",
    "\n",
    "    return image_id"
   ]
  },
  {
   "cell_type": "code",
   "execution_count": 599,
   "metadata": {},
   "outputs": [],
   "source": [
    "def sort_eigenvec_by_eigenval(eigenvals, eigenvecs):\n",
    "    \"\"\"\n",
    "    1. Make a list of (eigenvalue, eigenvector) tuples\n",
    "    2. Sort the (eigenvalue, eigenvector) tuples from high to low\n",
    "    \"\"\"\n",
    "    eig_pairs = [(np.abs(eigenvals[i]), eigenvecs[:,i]) for i in range(len(eigenvals))]\n",
    "    eig_pairs.sort(key=lambda x: x[0], reverse=True)\n",
    "\n",
    "    return  eig_pairs"
   ]
  },
  {
   "cell_type": "code",
   "execution_count": 600,
   "metadata": {},
   "outputs": [],
   "source": [
    "IMG_THRESHOLD = 15\n",
    "k = 2"
   ]
  },
  {
   "cell_type": "code",
   "execution_count": 601,
   "metadata": {},
   "outputs": [],
   "source": [
    "images = np.array([[1, 2, 3, 4], [4, 5, 6, 7], [7, 8, 9, 1]])"
   ]
  },
  {
   "cell_type": "code",
   "execution_count": 602,
   "metadata": {},
   "outputs": [
    {
     "name": "stdout",
     "output_type": "stream",
     "text": [
      "(3, 4)\n",
      "(3, 3)\n",
      "(3, 3)\n"
     ]
    }
   ],
   "source": [
    "image_stack = stack_vectors(images)\n",
    "print(image_stack.shape)\n",
    "mean_vector = compute_mean_vector(image_stack)\n",
    "scatter_matrix = compute_scatter_matrix(image_stack,mean_vector)\n",
    "print(scatter_matrix.shape)\n",
    "cov_matrix = compute_covariance_matrix(image_stack)\n",
    "print(cov_matrix.shape)"
   ]
  },
  {
   "cell_type": "code",
   "execution_count": 603,
   "metadata": {},
   "outputs": [
    {
     "name": "stdout",
     "output_type": "stream",
     "text": [
      "[[-0.64295127 -0.62562014]\n",
      " [-0.31955425 -0.30514273]\n",
      " [ 0.69605944 -0.71797449]]\n",
      "Shape of the matrix W is (3, 2)\n",
      "[[-0.64521434 -0.62561231]\n",
      " [-0.31483236 -0.30526755]\n",
      " [ 0.69611712 -0.71792824]]\n",
      "Shape of the matrix W is (3, 2)\n"
     ]
    },
    {
     "ename": "ValueError",
     "evalue": "shapes (2,3) and (4,3) not aligned: 3 (dim 1) != 4 (dim 0)",
     "output_type": "error",
     "traceback": [
      "\u001b[0;31m---------------------------------------------------------------------------\u001b[0m",
      "\u001b[0;31mValueError\u001b[0m                                Traceback (most recent call last)",
      "\u001b[0;32m<ipython-input-603-3ac735d54db8>\u001b[0m in \u001b[0;36m<module>\u001b[0;34m\u001b[0m\n\u001b[1;32m     11\u001b[0m \u001b[0mmatrix_w_2\u001b[0m \u001b[0;34m=\u001b[0m \u001b[0mchoose_k_eigenvecs\u001b[0m\u001b[0;34m(\u001b[0m\u001b[0meig_pairs2\u001b[0m\u001b[0;34m,\u001b[0m \u001b[0mk\u001b[0m\u001b[0;34m,\u001b[0m \u001b[0mimage_stack\u001b[0m\u001b[0;34m)\u001b[0m\u001b[0;34m\u001b[0m\u001b[0;34m\u001b[0m\u001b[0m\n\u001b[1;32m     12\u001b[0m \u001b[0;34m\u001b[0m\u001b[0m\n\u001b[0;32m---> 13\u001b[0;31m \u001b[0mtransformed1\u001b[0m \u001b[0;34m=\u001b[0m \u001b[0mget_transformed_images\u001b[0m\u001b[0;34m(\u001b[0m\u001b[0mmatrix_w_1\u001b[0m\u001b[0;34m,\u001b[0m \u001b[0mimage_stack\u001b[0m\u001b[0;34m.\u001b[0m\u001b[0mT\u001b[0m\u001b[0;34m)\u001b[0m\u001b[0;34m\u001b[0m\u001b[0;34m\u001b[0m\u001b[0m\n\u001b[0m\u001b[1;32m     14\u001b[0m \u001b[0mtransformed2\u001b[0m \u001b[0;34m=\u001b[0m \u001b[0mget_transformed_images\u001b[0m\u001b[0;34m(\u001b[0m\u001b[0mmatrix_w_2\u001b[0m\u001b[0;34m,\u001b[0m \u001b[0mimage_stack\u001b[0m\u001b[0;34m.\u001b[0m\u001b[0mT\u001b[0m\u001b[0;34m)\u001b[0m\u001b[0;34m\u001b[0m\u001b[0;34m\u001b[0m\u001b[0m\n",
      "\u001b[0;32m<ipython-input-597-393318111411>\u001b[0m in \u001b[0;36mget_transformed_images\u001b[0;34m(matrix_w, stack)\u001b[0m\n\u001b[1;32m      3\u001b[0m     \u001b[0mThe\u001b[0m \u001b[0mdimension\u001b[0m \u001b[0mof\u001b[0m \u001b[0mthe\u001b[0m \u001b[0mtransformed\u001b[0m \u001b[0mmatrix\u001b[0m \u001b[0mk\u001b[0m \u001b[0mx\u001b[0m \u001b[0mnumber_of_images\u001b[0m\u001b[0;34m\u001b[0m\u001b[0;34m\u001b[0m\u001b[0m\n\u001b[1;32m      4\u001b[0m     \"\"\"\n\u001b[0;32m----> 5\u001b[0;31m     \u001b[0mtransformed\u001b[0m \u001b[0;34m=\u001b[0m \u001b[0mmatrix_w\u001b[0m\u001b[0;34m.\u001b[0m\u001b[0mT\u001b[0m\u001b[0;34m.\u001b[0m\u001b[0mdot\u001b[0m\u001b[0;34m(\u001b[0m\u001b[0mstack\u001b[0m\u001b[0;34m)\u001b[0m\u001b[0;34m\u001b[0m\u001b[0;34m\u001b[0m\u001b[0m\n\u001b[0m\u001b[1;32m      6\u001b[0m     \u001b[0mprint\u001b[0m\u001b[0;34m(\u001b[0m\u001b[0;34m\"Shape of the transformed matrix is {}\"\u001b[0m\u001b[0;34m.\u001b[0m\u001b[0mformat\u001b[0m\u001b[0;34m(\u001b[0m\u001b[0mtransformed\u001b[0m\u001b[0;34m.\u001b[0m\u001b[0mshape\u001b[0m\u001b[0;34m)\u001b[0m\u001b[0;34m)\u001b[0m\u001b[0;34m\u001b[0m\u001b[0;34m\u001b[0m\u001b[0m\n\u001b[1;32m      7\u001b[0m     \u001b[0;32mreturn\u001b[0m \u001b[0mtransformed\u001b[0m\u001b[0;34m.\u001b[0m\u001b[0mT\u001b[0m\u001b[0;34m\u001b[0m\u001b[0;34m\u001b[0m\u001b[0m\n",
      "\u001b[0;31mValueError\u001b[0m: shapes (2,3) and (4,3) not aligned: 3 (dim 1) != 4 (dim 0)"
     ]
    }
   ],
   "source": [
    "# eigenvectors and eigenvalues for the from the scatter matrix\n",
    "eig_val_sc, eig_vec_sc = get_eigenvecs_vals(scatter_matrix)\n",
    "\n",
    "# eigenvectors and eigenvalues for the from the covariance matrix\n",
    "eig_val_cov, eig_vec_cov = get_eigenvecs_vals(cov_matrix)\n",
    "\n",
    "eig_pairs1 = sort_eigenvec_by_eigenval(eig_val_sc, eig_vec_sc)\n",
    "eig_pairs2 = sort_eigenvec_by_eigenval(eig_val_cov, eig_vec_cov)\n",
    "\n",
    "matrix_w_1 = choose_k_eigenvecs(eig_pairs1, k, image_stack)\n",
    "matrix_w_2 = choose_k_eigenvecs(eig_pairs2, k, image_stack)\n",
    "\n",
    "transformed1 = get_transformed_images(matrix_w_1, image_stack.T)\n",
    "transformed2 = get_transformed_images(matrix_w_2, image_stack.T)"
   ]
  },
  {
   "cell_type": "code",
   "execution_count": null,
   "metadata": {},
   "outputs": [],
   "source": [
    "img_id1 = find_closest_image(transformed1, matrix_w_1, np.array([4, 5, 6, 7]))"
   ]
  },
  {
   "cell_type": "code",
   "execution_count": null,
   "metadata": {},
   "outputs": [],
   "source": [
    "print(img_id1)"
   ]
  },
  {
   "cell_type": "code",
   "execution_count": null,
   "metadata": {},
   "outputs": [],
   "source": []
  }
 ],
 "metadata": {
  "kernelspec": {
   "display_name": "Python 3",
   "language": "python",
   "name": "python3"
  },
  "language_info": {
   "codemirror_mode": {
    "name": "ipython",
    "version": 3
   },
   "file_extension": ".py",
   "mimetype": "text/x-python",
   "name": "python",
   "nbconvert_exporter": "python",
   "pygments_lexer": "ipython3",
   "version": "3.7.4"
  }
 },
 "nbformat": 4,
 "nbformat_minor": 2
}
