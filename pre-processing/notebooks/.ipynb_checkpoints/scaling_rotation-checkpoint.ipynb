{
 "cells": [
  {
   "cell_type": "code",
   "execution_count": 1,
   "metadata": {},
   "outputs": [],
   "source": [
    "from imutils import face_utils\n",
    "from imutils.face_utils import rect_to_bb\n",
    "import imutils\n",
    "import dlib\n",
    "import numpy as np\n",
    "import cv2\n",
    "import os\n",
    "from os import listdir\n",
    "from os.path import isfile, join"
   ]
  },
  {
   "cell_type": "code",
   "execution_count": 2,
   "metadata": {},
   "outputs": [
    {
     "name": "stdout",
     "output_type": "stream",
     "text": [
      "['Sravya', 'Tripti', 'Hatim', 'Vaibhav', 'Juhi', 'Deepti', 'Aadhithya', 'Mahesh', 'Naman', 'Utkarsh', 'Ankush', 'Shivang', 'Pragya', 'Harsha_5th_year', 'Karthik', 'Pranav', 'SaiPradeep', 'Palash', 'Akhila', 'Abhijith', 'Vamsi', 'Pranith', 'Deepika', 'Shashikant', 'Ravi', 'Prachi', 'Abhiramon', 'Harsha_3rd_year', 'Anshuk', 'Suraj', 'Nehal', 'Rachit', 'Aditya', 'Shiloni', 'Devyani', 'Shabaz', 'Sowmya', 'Vishnu', 'Himank', 'Rakshith', 'Anagha', 'Rohil', 'Vivek']\n",
      "[['Sravya_CO_09.jpg', 'Sravya_CI_09.jpg', 'Sravya_CI_08.jpg', 'Sravya_CI_04.jpg', 'Sravya_CI_05.jpg', 'Sravya_CO_10.jpg', 'Sravya_CO_08.jpg', 'Sravya_CI_01.jpg', 'Sravya_CO_01.jpg', 'Sravya_CO_06.jpg', 'Sravya_CO_04.jpg', 'Sravya_CI_10.jpg', 'Sravya_CO_05.jpg', 'Sravya_CI_06.jpg', 'Sravya_CI_03.jpg', 'Sravya_CO_03.jpg', 'Sravya_CO_07.jpg', 'Sravya_CI_02.jpg', 'Sravya_CI_07.jpg', 'Sravya_CO_02.jpg'], ['2018-11-09-22-42-04-014.jpg', '2018-11-09-22-44-15-389.jpg', '2018-11-09-22-37-21-532.jpg', 'Tripti_CI_03.jpg', '2018-11-09-22-38-56-632.jpg', '2018-11-09-22-36-33-677.jpg', '2018-11-09-22-39-23-379.jpg', '2018-11-09-22-40-59-739.jpg', 'Tripti_CI_01.jpg', 'Tripti_CI_04.jpg', 'Tripti_CI_08.jpg', 'Tripti_CI_05.jpg', '2018-11-09-22-43-45-088.jpg', 'Tripti_CI_09.jpg', '2018-11-09-22-41-25-846.jpg', '2018-11-09-22-37-30-273.jpg', 'Tripti_CI_06.jpg', 'Tripti_CI_10.jpg', 'Tripti_CI_02.jpg', 'Tripti_CI_07.jpg', '2018-11-09-22-37-38-823.jpg'], ['HatimB_CO_01.jpg', 'HatimB_CI_10.jpg', 'HatimB_CI_03.jpg', 'HatimB_CI_02.jpg', 'HatimB_CI_09.jpg', 'HatimB_CI_08.jpg', 'HatimB_CO_05.jpg', 'HatimB_CO_09.jpg', 'HatimB_CO_10.jpg', 'HatimB_CI_01.jpg', 'HatimB_CI_04.jpg', 'HatimB_CO_03.jpg', 'HatimB_CO_04.jpg', 'HatimB_CO_07.jpg', 'HatimB_CI_05.jpg', 'HatimB_CO_06.jpg', 'HatimB_CO_02.jpg', 'HatimB_CI_07.jpg', 'HatimB_CO_08.jpg', 'HatimB_CI_06.jpg'], ['Vaibav_CI_03.jpg', 'Vaibav_CO_08.jpg', 'Vaibav_CI_05.jpg', 'Vaibav_CO_10.jpg', 'Vaibav_CI_06.jpg', 'Vaibav_CI_07.jpg', 'Vaibav_CI_01.jpg', 'Vaibav_CO_09.jpg', 'Vaibav_CO_01.jpg', 'Vaibav_CO_04.jpg', 'Vaibav_CI_02.jpg', 'Vaibav_CI_09.jpg', 'Vaibav_CI_04.jpg', 'Vaibav_CO_03.jpg', 'Vaibav_CO_06.jpg', 'Vaibav_CI_08.jpg', 'Vaibav_CI_10.jpg', 'Vaibav_CO_05.jpg', 'Vaibav_CO_07.jpg', 'Vaibav_CO_02.jpg'], ['Juhi_CI_11.jpeg', 'Juhi_CI_02.jpg', 'Juhi_CO_07.jpeg', 'Juhi_CO_08.jpeg', 'Juhi_CO_04.jpeg', 'Juhi_CO_10.jpeg', 'Juhi_CO_09.jpeg', 'Juhi_CI_06.jpg', 'Juhi_CO_03.jpeg', 'Juhi_CI_07.jpg', 'Juhi_CO_06.jpeg', 'Juhi_CO_01.jpg', 'Juhi_CI_09.jpg', 'Juhi_CI_05.jpg', 'Juhi_CI_04.jpg', 'Juhi_CO_02.jpeg', 'Juhi_CI_08.jpg', 'Juhi_CI_01.jpg', 'Juhi_CO_05.jpeg', 'Juhi_CI_10.jpg', 'Juhi_CI_03.jpg'], ['Deepti_CO_05.jpg', 'Deepti_CI_03.jpg', 'Deepti_CI_08.jpg', 'Deepti_CO_08.jpg', 'Deepti_CI_07.jpg', 'Deepti_CO_10.jpg', 'Deepti_CI_05.jpg', 'Deepti_CI_04.jpg', 'Deepti_CI_09.jpg', 'Deepti_CO_02.jpg', 'Deepti_CI_10.jpg', 'Deepti_CI_01.jpg', 'Deepti_CO_07.jpg', 'Deepti_CO_04.jpg', 'Deepti_CO_09.jpg', 'Deepti_CO_03.jpg', 'Deepti_CI_02.jpg', 'Deepti_CI_06.jpg', 'Deepti_CO_01.jpg', 'Deepti_CO_06.jpg'], ['Aadhit_CI_06.jpg', 'Aadhit_CO_04.jpg', 'Aadhit_CO_02.jpg', 'Aadhit_CI_10.jpg', 'Aadhit_CI_05.jpg', 'Aadhit_CO_06.jpg', 'Aadhit_CI_07.jpg', 'Aadhit_CO_07.jpg', 'Aadhit_CI_02.jpg', 'Aadhit_CO_01.jpg', 'Aadhit_CI_09.jpg', 'Aadhit_CO_03.jpg', 'Aadhit_CI_04.jpg', 'Aadhit_CO_09.jpg', 'Aadhit_CI_01.jpg', 'Aadhit_CI_08.jpg', 'Aadhit_CO_08.jpg', 'Aadhit_CO_05.jpg', 'Aadhit_CI_03.jpg', 'Aadhit_CO_10.jpg'], ['Mahesh_PO_05.jpg', 'Mahesh_PO_01.jpg', 'Mahesh_PI_10.jpg', 'Mahesh_PI_04.jpg', 'Mahesh_PI_02.jpg', 'Mahesh_PO_04.jpg', 'Mahesh_PO_02.jpg', 'Mahesh_PI_09.jpg', 'Mahesh_PO_03.jpg', 'Mahesh_PO_10.jpg', 'Mahesh_PO_08.jpg', 'Mahesh_PI_05.jpg', 'Mahesh_PO_06.jpg', 'Mahesh_PO_09.jpg', 'Mahesh_PI_06.jpg', 'Mahesh_PI_01.jpg', 'Mahesh_PI_07.jpg', 'Mahesh_PI_03.jpg', 'Mahesh_PI_08.jpg', 'Mahesh_PO_07.jpg'], ['Naman_CI_02.jpg', 'Naman_CI_09.jpg', 'Naman_CI_05.jpg', 'Naman_CI_07.jpg', 'Naman_CO_03.jpg', 'Naman_CO_07.jpg', 'Naman_CO_04.jpg', 'Naman_CI_10.jpeg', 'Naman_CO_08.jpg', 'Naman_CI_01.jpg', 'Naman_CO_05.jpg', 'Naman_CO_09.jpg', 'Naman_CI_03.jpg', 'Naman_CO_10.jpeg', 'Naman_CO_01.jpg', 'Naman_CI_04.jpg', 'Naman_CO_06.jpg', 'Naman_CI_06.jpg', 'Naman_CI_08.jpg', 'Naman_CO_02.jpg'], ['Utkars_CO_05.jpg', 'Utkars_CI_05.jpg', 'Utkars_CO_04.jpg', 'Utkars_CI_09.jpg', 'Utkars_CO_06.jpg', 'Utkars_CI_07.jpg', 'Utkars_CI_08.jpg', 'Utkars_CO_07.jpg', 'Utkars_CI_10.jpg', 'Utkars_CO_02.jpg', 'Utkars_CO_08.jpg', 'Utkars_CO_09.jpg', 'Utkars_CO_01.jpg', 'Utkars_CO_03.jpg', 'Utkars_CI_03.jpg', 'Utkars_CI_06.jpg', 'Utkars_CI_02.jpg', 'Utkars_CI_04.jpg', 'Utkars_CO_10.jpg', 'Utkars_CI_01.jpg'], ['Aditya_CO_06.jpg', 'Aditya_CI_06.jpg', 'Aditya_CI_10.jpg', 'Aditya_CO_01.jpg', 'Aditya_CI_03.jpg', 'Aditya_CI_01.jpg', 'Aditya_CO_07.jpg', 'Aditya_CO_08.jpg', 'Aditya_CI_07.jpg', 'Aditya_CO_05.jpg', 'Aditya_CI_08.jpg', 'Aditya_CO_09.jpg', 'Aditya_CI_09.jpg', 'Aditya_CI_05.jpg', 'Aditya_CO_10.jpg', 'Aditya_CI_04.jpg', 'Aditya_CO_03.jpg', 'Aditya_CI_02.jpg', 'Aditya_CO_04.jpg', 'Aditya_CO_02.jpg'], ['Shivan_CO_06.jpeg', 'Shivan_CO_03.jpeg', 'Shivan_CI_06.jpeg', 'Shivan_CO_05.jpeg', 'Shivan_CI_03.jpeg', 'Shivan_CO_04.jpeg', 'Shivan_CI_08.jpeg', 'Shivan_CO_10.jpeg', 'Shivan_CI_01.jpeg', 'Shivan_CI_04.jpeg', 'Shivan_CI_10.jpeg', 'Shivan_CO_09.jpeg', 'Shivan_CO_02.jpeg', 'Shivan_CI_02.jpeg', 'Shivan_CO_07.jpeg', 'Shivan_CI_07.jpeg', 'Shivan_CI_05.jpeg', 'Shivan_CI_09.jpeg', 'Shivan_CO_08.jpeg', 'Shivan_CO_01.jpeg'], ['Pragya_CI_06.jpeg', 'Pragya_CI_02.jpeg', 'Pragya_CI_05.jpeg', 'PRAGYA_CO_05.jpg', 'Pragya_CO_01.jpeg', 'PRAGYA_CO_04.jpg', 'Pragya_CO_03.jpeg', 'PRAGYA_CO_08.jpg', 'Pragya_CI_04.jpeg', 'Pragya_CI_01.jpeg', 'PRAGYA_CO_07.jpg', 'PRAGYA_CI_09.jpg', 'PRAGYA_CO_06.jpg', 'Pragya_CI_07.jpeg', 'Pragya_CO_02.jpeg', 'Pragya_CI_03.jpeg', 'Pragya_CI_08.jpeg'], ['Harsha_CI_07.jpg', 'Harsha_CO_08.jpg', 'Harsha_CO_07.jpg', 'Harsha_CO_01.jpg', 'Harsha_CI_09.jpg', 'Harsha_CO_02.jpg', 'Harsha_CI_08.jpg', 'Harsha_CI_10.jpg', 'Harsha_CI_01.jpg', 'Harsha_CO_10.jpg', 'Harsha_CO_03.jpg', 'Harsha_CO_04.jpg', 'Harsha_CI_03.jpeg', 'Harsha_CI_05.jpg', 'Harsha_CI_06.jpg', 'Harsha_CI_04.jpg', 'Harsha_CO_06.jpg', 'Harsha_CI_02.jpg', 'Harsha_CO_05.jpg', 'Harsha_CO_09.jpg'], ['karthi_CI_04.JPG', 'karthi_CI_05.JPG', 'karthi_CO_06.JPG', 'karthi_CO_05.JPG', 'karthi_CO_07.JPG', 'karthi_CO_03.JPG', 'karthi_CI_03.JPG', 'karthi_CI_01.JPG', 'karthi_CI_10.JPG', 'karthi_CO_10.JPG', 'karthi_CO_09.JPG', 'karthi_CO_04.JPG', 'karthi_CO_01.JPG', 'karthi_CO_02.JPG', 'karthi_CI_02.JPG', 'karthi_CI_09.JPG', 'karthi_CI_07.JPG', 'karthi_CO_08.JPG', 'karthi_CI_08.JPG', 'karthi_CI_06.JPG'], ['Pranav_CI_06.jpeg', 'Pranav_CI_04.jpeg', 'Pranav_CO_08.jpeg', 'Pranav_CI_03.jpeg', 'Pranav_CI_10.jpeg', 'Pranav_CO_02.jpeg', 'Pranav_CI_09.jpeg', 'Pranav_CI_08.jpeg', 'Pranav_CO_05.jpeg', 'Pranav_CO_06.jpeg', 'Pranav_CO_04.jpeg', 'Pranav_CO_03.jpeg', 'Pranav_CI_05.jpeg', 'Pranav_CO_10.jpeg', 'Pranav_CO_09.jpeg', 'Pranav_CI_07.jpeg', 'Pranav_CI_02.jpeg', 'Pranav_CO_07.jpeg', 'Pranav_CI_01.jpeg', 'Pranav_CO_01.jpeg'], ['saipra_oneplusA6010_indoor_09.jpg', 'saipra_oneplusA6010_indoor_08.jpg', 'saipra_oneplusA6010_outdoor_07.jpg', 'saipra_Redminote5_outdoor_02.jpg', 'saipra_oneplusA6010_outdoor_10.jpg', 'saipra_oneplusA6010_outdoor_05.jpg', 'saipra_oneplusA6010_indoor_06.jpg', 'saipra_oneplusA6010_outdoor_06.jpg', 'saipra_oneplusA6010_outdoor_09.jpg', 'saipra_oneplusA6010_indoor_05.jpg', 'saipra_oneplusA6010_indoor_07.jpg', 'saipra_Redminote5_outdoor_01.jpg', 'saipra_oneplusA6010_outdoor_08.jpg', 'saipra_Redminote5_outdoor_03.jpg', 'saipra_Redminote5_outdoor_04.jpg', 'saipra_oneplusA6010_indoor_04.jpg', 'saipra_Redminote5_indoor_03.jpg', 'saipra_oneplusA6010_indoor_10.jpg', 'saipra_oneplusA6010_indoor_02.jpg', 'saipra_oneplusA6010_indoor_01.jpg'], ['Palash_CO_09.jpg', 'Palash_CO_08.jpg', 'Palash_CO_06.jpg', 'Palash_CO_02.jpg', 'Palash_CI_05.jpg', 'Palash_CI_07.jpg', 'Palash_CI_04.jpg', 'Palash_CO_03.jpg', 'Palash_CO_10.jpg', 'Palash_CO_04.jpg', 'Palash_CO_01.jpg', 'Palash_CI_06.jpg', 'Palash_CO_05.jpg', 'Palash_CI_01.jpg', 'Palash_CI_02.jpg', 'Palash_CI_10.jpg', 'Palash_CI_03.jpg', 'Palash_CI_08.jpg', 'Palash_CI_09.jpg', 'Palash_CO_07.jpg'], ['Akhila_CI_04.jpg', 'Akhila_CI_10.jpg', 'Akhila_CI_06.jpg', 'Akhila_CO_07.jpg', 'Akhila_CI_08.jpg', 'Akhila_CO_04.jpg', 'Akhila_CI_05.jpg', 'Akhila_CI_07.jpg', 'Akhila_CO_03.jpg', 'Akhila_CO_02.jpg', 'Akhila_CO_10.jpg', 'Akhila_CI_02.jpg', 'Akhila_CO_06.jpg', 'Akhila_CO_05.jpg', 'Akhila_CO_01.jpg', 'Akhila_CI_03.jpg', 'Akhila_CI_09.jpg', 'Akhila_CO_08.jpg', 'Akhila_CI_01.jpg', 'Akhila_CO_09.jpg'], ['Abhijith_CI_02.jpg', 'Abhijith_CO_03.jpg', 'Abhijith_CI_01.jpg', 'Abhijith_CI_03.jpg', 'Abhijith_CI_010.jpg', 'Abhijith_CI_09.jpg', 'Abhijith_CI_05.jpg', 'Abhijith_CO_010.jpg', 'Abhijith_CI_08.jpg', 'Abhijith_CO_08.jpg', 'Abhijith_CI_06.jpg', 'Abhijith_CO_06.jpg', 'Abhijith_CO_01.jpg', 'Abhijith_CO_09.jpg', 'Abhijith_CO_07.jpg', 'Abhijith_CO_02.jpg', 'Abhijith_CI_07.jpg', 'Abhijith_CO_05.jpg', 'Abhijith_CI_04.jpg', 'Abhijith_CO_04.jpg'], ['vamshi_CI_02.JPG', 'vamshi_CO_06.JPG', 'vamshi_CI_07.JPG', 'vamshi_CI_05.JPG', 'vamshi_CO_01.JPG', 'vamshi_CO_02.JPG', 'vamshi_CI_04.JPG', 'vamshi_CO_08.JPG', 'vamshi_CO_10.JPG', 'vamshi_CI_10.JPG', 'vamshi_CI_03.JPG', 'vamshi_CI_06.JPG', 'vamshi_CO_07.JPG', 'vamshi_CO_03.JPG', 'vamshi_CI_08.JPG', 'vamshi_CI_01.JPG', 'vamshi_CO_09.JPG', 'vamshi_CI_09.JPG', 'vamshi_CO_04.JPG', 'vamshi_CO_05.JPG'], ['pranit_CO_09.JPG', 'pranit_CI_08.JPG', 'pranit_CO_07.JPG', 'pranit_CI_05.JPG', 'pranit_CI_09.JPG', 'pranit_CO_05.JPG', 'pranit_CI_04.JPG', 'pranit_CI_03.JPG', 'pranit_CI_07.JPG', 'pranit_CO_02.JPG', 'pranit_CI_02.JPG', 'pranit_CO_01.JPG', 'pranit_CO_06.JPG', 'pranit_CI_10.JPG', 'pranit_CI_06.JPG', 'pranit_CO_03.JPG', 'pranit_CO_04.JPG', 'pranit_CO_08.JPG', 'pranit_CI_01.JPG', 'pranit_CO_10.JPG'], ['Deepik_CI_06.jpg', 'Deepik_CO_06.jpg', 'Deepik_CO_08.jpg', 'Deepik_CI_02.jpg', 'Deepik_CI_04.jpg', 'Deepik_CO_03.jpg', 'Deepik_CI_01.jpg', 'Deepik_CO_09.jpg', 'Deepik_CO_04.jpg', 'Deepik_CI_09.jpg', 'Deepik_CO_02.jpg', 'Deepik_CO_05.jpg', 'Deepik_CO_10.jpg', 'Deepik_CI_05.jpg', 'Deepik_CO_07.jpg', 'Deepik_CI_10.jpg', 'Deepik_CI_07.jpg', 'Deepik_CI_03.jpg', 'Deepik_CI_08.jpg', 'Deepik_CO_01.jpg'], ['Shashikant_PI_07.jpg', 'Shashikant_PI_06.jpg', 'Shashikant_PO_01.jpg', 'Shashikant_PO_10.jpg', 'Shashikant_PI_03.jpg', 'Shashikant_PI_04.jpg', 'Shashikant_PI_02.jpg', 'Shashikant_PO_05.jpg', 'Shashikant_PO_08.jpg', 'Shashikant_PI_09.jpg', 'Shashikant_PO_03.jpg', 'Shashikant_PO_07.jpg', 'Shashikant_PO_06.jpg', 'Shashikant_PI_10.jpg', 'Shashikant_PO_02.jpg', 'Shashikant_PI_01.jpg', 'Shashikant_PO_09.jpg', 'Shashikant_PO_04.jpg', 'Shashikant_PI_08.jpg', 'Shashikant_PI_05.jpg'], ['Ravi_PI_06.jpg', 'Ravi_PO_07.jpg', 'Ravi_PO_10.jpg', 'Ravi_PI_08.jpg', 'Ravi_PI_07.jpg', 'Ravi_PI_05.jpg', 'Ravi_PO_05.jpg', 'Ravi_PI_01.jpg', 'Ravi_PO_03.jpg', 'Ravi_PO_09.jpg', 'Ravi_PO_06.jpg', 'Ravi_PO_04.jpg', 'Ravi_PI_10.jpg', 'Ravi_PO_01.jpg', 'Ravi_PI_02.jpg', 'Ravi_PI_04.jpg', 'Ravi_PI_03.jpg', 'Ravi_PO_08.jpg', 'Ravi_PO_02.jpg', 'Ravi_PI_09.jpg'], ['Prachi_CO_04.jpg', 'Prachi_CI_01.jpg', 'Prachi_CO_05.jpg', 'Prachi_CI_04.jpg', 'Prachi_CO_10.jpg', 'Prachi_CI_06 (1).jpg', 'Prachi_CI_10.jpg', 'Prachi_CO_02.jpg', 'Prachi_CO_03.jpg', 'Prachi_CO_01.jpg', 'Prachi_CO_07.jpg', 'Prachi_CO_09.jpg', 'Prachi_CO_06.jpg', 'Prachi_CI_03.jpg', 'Prachi_CO_08.jpg', 'Prachi_CI_02.jpg', 'Prachi_CI_07.jpg', 'Prachi_CI_05.jpg', 'Prachi_CI_08.jpg', 'Prachi_CI_09.jpg'], ['Abhira_CI_04.jpg', 'Abhira_CO_01.jpg', 'Abhira_CI_03.jpg', 'Abhira_CO_08.jpg', 'Abhira_CI_08.jpg', 'Abhira_CO_06.jpg', 'Abhira_CI_06.jpg', 'Abhira_CI_01.jpg', 'Abhira_CI_02.jpg', 'Abhira_CI_09.jpg', 'Abhira_CI_05.jpg', 'Abhira_CO_07.jpg', 'Abhira_CO_05.jpg', 'Abhira_CO_02.jpg', 'Abhira_CI_07.jpg', 'Abhira_CO_03.jpg', 'Abhira_CO_04.jpg', 'Abhira_CO_09.jpg', 'Abhira_CO_10.jpg', 'Abhira_CI_10.jpg'], ['Harsha_CI_07.jpg', 'Harsha_CO_08.jpg', 'Harsha_CO_07.jpg', 'Harsha_CO_01.jpg', 'Harsha_CI_09.jpg', 'Harsha_CO_02.jpg', 'Harsha_CI_08.jpg', 'Harsha_CI_10.jpg', 'Harsha_CI_01.jpg', 'Harsha_CO_10.jpg', 'Harsha_CI_03.jpg', 'Harsha_CO_03.jpg', 'Harsha_CO_04.jpg', 'Harsha_CI_05.jpg', 'Harsha_CI_06.jpg', 'Harsha_CI_04.jpg', 'Harsha_CO_06.jpg', 'Harsha_CI_02.jpg', 'Harsha_CO_05.jpg', 'Harsha_CO_09.jpg'], ['Anshuk_CO_06.jpg', 'Anshuk_CO_08.jpg', 'Anshuk_CI_05.jpg', 'Anshuk_CI_01.jpg', 'Anshuk_CO_02.jpg', 'Anshuk_CI_04.jpg', 'Anshuk_CO_07.jpg', 'Anshuk_CO_10.jpg', 'Anshuk_CO_09.jpg', 'Anshuk_CO_03.jpg', 'Anshuk_CO_01.jpg', 'Anshuk_CI_07.jpg', 'Anshuk_CI_02.jpg', 'Anshuk_CO_04.jpg', 'Anshuk_CI_10.jpg', 'Anshuk_CI_03.jpg', 'Anshuk_CO_05.jpg', 'Anshuk_CI_08.jpg', 'Anshuk_CI_06.jpg', 'Anshuk_CI_09.jpg'], ['Suraj_CI9.jpg', 'Suraj_CO2.jpg', 'Suraj_CI8.jpg', 'Suraj_CI1.jpg', 'Suraj_CO7.jpg', 'Suraj_CO1.jpg', 'Suraj_CI3.jpg', 'Suraj_CI4.jpg', 'Suraj_CO8.jpg', 'Suraj_CO9.jpg', 'Suraj_CI7.jpg', 'Suraj_CI2.jpg', 'Suraj_CO6.jpg', 'Suraj_CO3.jpg', 'Suraj_CI5.jpg', 'Suraj_CO4.jpg', 'Suraj_CI6.jpg', 'Suraj_CO5.jpg', 'Suraj_CI10.jpg', 'Suraj_CO10.jpg'], ['Nehal_CI_010.jpg', 'Nehal_CI_02.jpg', 'Nehal_CO_05.jpg', 'Nehal_CO_08.jpg', 'Nehal_CO_07.jpg', 'Nehal_CI_03.jpg', 'Nehal_CO_02.jpg', 'Nehal_CI_01.jpg', 'Nehal_CO_04.jpg', 'Nehal_CO_06.jpg', 'Nehal_CO_010.jpg', 'Nehal_CI_07.jpg', 'Nehal_CI_09.jpg', 'Nehal_CO_01.jpg', 'Nehal_CO_03.jpg', 'Nehal_CI_08.jpg', 'Nehal_CI_06.jpg', 'Nehal_CI_04.jpg', 'Nehal_CI_05.jpg', 'Nehal_CO_09.jpg'], ['Rachit_CO_03.jpg', 'Rachit_CO_10.jpg', 'Rachit_CO_08.jpg', 'Rachit_CI_06.jpg', 'Rachit_CI_05.jpg', 'Rachit_CO_05.jpg', 'Rachit_CI_08.jpg', 'Rachit_CO_01.jpg', 'Rachit_CI_03.jpg', 'Rachit_CO_06.jpg', 'Rachit_CO_09.jpg', 'Rachit_CO_04.jpg', 'Rachit_CI_04.jpg', 'Rachit_CI_10.jpg', 'Rachit_CO_02.jpg', 'Rachit_CI_02.jpg', 'Rachit_CI_09.jpg', 'Rachit_CO_07.jpg', 'Rachit_CI_07.jpg', 'Rachit_CI_01.jpg'], ['Aditya_CO_06.jpg', 'Aditya_CI_06.jpg', 'Aditya_CI_10.jpg', 'Aditya_CO_01.jpg', 'Aditya_CI_03.jpg', 'Aditya_CI_01.jpg', 'Aditya_CO_07.jpg', 'Aditya_CO_08.jpg', 'Aditya_CI_07.jpg', 'Aditya_CO_05.jpg', 'Aditya_CI_08.jpg', 'Aditya_CO_09.jpg', 'Aditya_CI_09.jpg', 'Aditya_CI_05.jpg', 'Aditya_CO_10.jpg', 'Aditya_CI_04.jpg', 'Aditya_CO_03.jpg', 'Aditya_CI_02.jpg', 'Aditya_CO_04.jpg', 'Aditya_CO_02.jpg'], ['Shiloni_CO_04.jpg', 'Shiloni_CO_07.jpg', 'Shiloni_CI_07.jpg', 'Shiloni_CI_02.jpg', 'Shiloni_CI_08.jpg', 'Shiloni_CO_10.jpg', 'Shiloni_CI_09.jpg', 'Shiloni_CO_09.jpg', 'Shiloni_CI_06.jpg', 'Shiloni_CO_01.jpg', 'Shiloni_CO_03.jpg', 'Shiloni_CO_05.jpg', 'Shiloni_CI_01.jpg', 'Shiloni_CI_05.jpg', 'Shiloni_CO_06.jpg', 'Shiloni_CO_08.jpg', 'Shiloni_CI_03.jpg', 'Shiloni_CO_02.jpg', 'Shiloni_CI_10.jpg', 'Shiloni_CI_04.jpg'], ['Devyan_CO_10.jpg', 'Devyan_CI_02.jpg', 'Devyan_CO_09.jpg', 'Devyan_CI_08.jpg', 'Devyan_CI_01.jpg', 'Devyan_CO_07.jpg', 'Devyan_CO_06.jpg', 'Devyan_CO_04.jpg', 'Devyan_CO_03.jpg', 'Devyan_CI_07.jpg', 'Devyan_CI_03.jpg', 'Devyan_CO_05.jpg', 'Devyan_CI_05.jpg', 'Devyan_CI_09.jpg', 'Devyan_CI_10.jpg', 'Devyan_CO_08.jpg', 'Devyan_CI_04.jpg', 'Devyan_CO_02.jpg', 'Devyan_CO_01.jpg', 'Devyan_CI_06.jpg'], ['Shabaz_CO_08.jpeg', 'Shabaz_CO_03.jpeg', 'Shabaz_CO_10.jpeg', 'Shabaz_CI_04.jpeg', 'Shabaz_CI_03.jpeg', 'Shabaz_CI_10.jpeg', 'Shabaz_CI_07.jpeg', 'Shabaz_CI_02.jpeg', 'Shabaz_CI_01.jpeg', 'Shabaz_CI_06.jpeg', 'Shabaz_CO_04.jpeg', 'Shabaz_CO_05.jpeg', 'Shabaz_CI_09.jpeg', 'Shabaz_CO_01.jpeg', 'Shabaz_CO_09.jpeg', 'Shabaz_CO_07.jpeg', 'Shabaz_CI_08.jpeg', 'Shabaz_CO_06.jpeg', 'Shabaz_CO_02.jpeg', 'Shabaz_CI_05.jpeg'], ['Sowmya_CI_05.jpg', 'Sowmya_CI_02.jpg', 'Sowmya_CI_03.jpg', 'Sowmya_CO_02.jpg', 'Sowmya_CO_07.jpg', 'Sowmya_CO_09.jpg', 'Sowmya_CI_04.jpg', 'Sowmya_CO_05.jpg', 'Sowmya_CO_08.jpg', 'Sowmya_CI_07.jpg', 'Sowmya_CI_10.jpg', 'Sowmya_CO_01.jpg', 'Sowmya_CI_08.jpg', 'Sowmya_CI_06.jpg', 'Sowmya_CI_09.jpg', 'Sowmya_CO_06.jpg', 'Sowmya_CI_01.jpg', 'Sowmya_CO_10.jpg', 'Sowmya_CO_04.jpg', 'Sowmya_CO_03.jpg'], ['Vishnu_CI_06.jpg', 'Vishnu_CO_01.jpg', 'Vishnu_CO_08.jpg', 'Vishnu_CO_03.jpg', 'Vishnu_CI_07.jpg', 'Vishnu_CO_02.jpg', 'Vishnu_CI_03.jpg', 'Vishnu_CI_08.jpg', 'Vishnu_CI_04.jpg', 'Vishnu_CI_01.jpg', 'Vishnu_CO_09.jpg', 'Vishnu_CO_04.jpg', 'Vishnu_CI_05.jpg', 'Vishnu_CI_02.jpg', 'Vishnu_CI_09.jpg', 'Vishnu_CI_10.jpg', 'Vishnu_CO_05.jpg', 'Vishnu_CO_10.jpg', 'Vishnu_CO_06.jpg', 'Vishnu_CO_07.jpg'], ['Himank_CI_02.jpg', 'Himank_CI_09.jpg', 'Himank_CO_10.jpg', 'Himank_CO_03.jpg', 'Himank_CO_05.jpg', 'Himank_CO_02.jpg', 'Himank_CO_08.jpg', 'Himank_CI_01.jpg', 'Himank_CO_09.jpg', 'Himank_CI_07.jpg', 'Himank_CI_04.jpg', 'Himank_CI_10.jpg', 'Himank_CO_07.jpg', 'Himank_CI_08.jpg', 'Himank_CO_06.jpg', 'Himank_CO_04.jpg', 'Himank_CI_05.jpg', 'Himank_CI_03.jpg', 'Himank_CI_06.jpg', 'Himank_CO_01.jpg'], ['Rakshith_C1_09.jpg', 'Rakshith_CO_07.jpg', 'Rakshith_C1_05.jpg', 'Rakshith_CO_06.jpg', 'Rakshith_CO_03.jpg', 'Rakshith_C1_07.jpg', 'Rakshith_CO_01.jpg', 'Rakshith_CO_05.jpg', 'Rakshith_CO_02.jpg', 'Rakshith_C1_03.jpg', 'Rakshith_CO_09.png', 'Rakshith_C1_08.jpg', 'Rakshith_CO_08.jpg', 'Rakshith_CO_04.jpg', 'Rakshith_C1_04.jpg', 'Rakshith_C1_06.jpg', 'Rakshith_CO_10.jpg', 'Rakshith_C1_02.jpg', 'Rakshith_C1_10.jpg', 'Rakshith_C1_01.jpg'], ['Anagha_CI_09.jpg', 'Anagha_CI_01.jpg', 'Anagha_CO_10.jpeg', 'Anagha_CI_03.jpg', 'Anagha_CO_03.jpg', 'Anagha_CO_07.jpg', 'Anagha_CI_08.jpg', 'Anagha_CO_02.jpg', 'Anagha_CO_01.jpg', 'Anagha_CO_06.jpg', 'Anagha_CI_06.jpg', 'Anagha_CO_04.jpg', 'Anagha_CI_07.jpg', 'Anagha_CI_04.jpg', 'Anagha_CI_10.jpeg', 'Anagha_CO_05.jpg', 'Anagha_CI_02.jpg', 'Anagha_CO_09.jpg', 'Anagha_CO_08.jpg', 'Anagha_CI_05.jpg'], ['ROHILP_CI_02.jpg', 'ROHILP_CI_09.jpg', 'ROHILP_CO_06.jpg', 'ROHILP_CO_03.jpg', 'ROHILP_CO_08.jpg', 'ROHILP_CI_05.jpg', 'ROHILP_CO_05.jpg', 'ROHILP_CI_03.jpg', 'ROHILP_CO_04.jpg', 'ROHILP_CO_09.jpg', 'ROHILP_CO_01.jpg', 'ROHILP_CI_06.jpg', 'ROHILP_CI_10.jpeg', 'ROHILP_CO_07.jpg', 'ROHILP_CI_04.jpg', 'ROHILP_PO_10.jpeg', 'ROHILP_CO_02.jpg', 'ROHILP_CI_08.jpg', 'ROHILP_CI_01.jpg', 'ROHILP_CI_07.jpg'], ['VivekS_CO_05.jpg', 'VivekS_CI_04.jpg', 'VivekS_CO_04.jpg', 'VivekS_CI_01.jpg', 'VivekS_CO_03.jpg', 'VivekS_CO_09.jpg', 'VivekS_CO_06.jpg', 'VivekS_CI_02.jpg', 'VivekS_CI_10.jpg', 'VivekS_CI_09.jpg', 'VivekS_CO_07.jpg', 'VivekS_CI_06.jpg', 'VivekS_CO_08.jpg', 'VivekS_CO_01.jpg', 'VivekS_CI_03.jpg', 'VivekS_CI_08.jpg', 'VivekS_CI_05.jpg', 'VivekS_CO_10.jpg', 'VivekS_CO_02.jpg', 'VivekS_CI_07.jpg']]\n"
     ]
    }
   ],
   "source": [
    "mypath = \"../images/prev_class/AVR_data/\"\n",
    "directories = [dir for dir in listdir(mypath)]\n",
    "print(directories)\n",
    "files = []\n",
    "for dir in directories :\n",
    "    files_of_person = [f for f in listdir(mypath + dir)]\n",
    "    files.append(files_of_person)\n",
    "print(files)"
   ]
  },
  {
   "cell_type": "code",
   "execution_count": 3,
   "metadata": {},
   "outputs": [],
   "source": [
    "def scaleImage(predictor, image, gray, rect) :\n",
    "    shape = predictor(gray, rect)\n",
    "    shape = face_utils.shape_to_np(shape)\n",
    "    (w, h) = image.shape[:2]\n",
    "    (lStart, lEnd) = face_utils.FACIAL_LANDMARKS_IDXS[\"left_eye\"]\n",
    "    (rStart, rEnd) = face_utils.FACIAL_LANDMARKS_IDXS[\"right_eye\"]\n",
    "    leftEyePts = shape[lStart:lEnd]\n",
    "    rightEyePts = shape[rStart:rEnd]\n",
    "    leftEyeCenter = leftEyePts.mean(axis=0).astype(\"int\")\n",
    "    rightEyeCenter = rightEyePts.mean(axis=0).astype(\"int\")\n",
    "    dY = rightEyeCenter[1] - leftEyeCenter[1]\n",
    "    dX = rightEyeCenter[0] - leftEyeCenter[0]\n",
    "    angle = np.degrees(np.arctan2(dY, dX)) - 180\n",
    "    dist = np.sqrt((dX ** 2) + (dY ** 2))\n",
    "    desiredDist = 128 \n",
    "    scale = desiredDist / dist\n",
    "    eyesCenter = ((leftEyeCenter[0] + rightEyeCenter[0]) // 2,\n",
    "        (leftEyeCenter[1] + rightEyeCenter[1]) // 2)\n",
    "    M = cv2.getRotationMatrix2D(eyesCenter, angle, scale)\n",
    "    tX = w * 0.5\n",
    "    tY = h * 0.35\n",
    "    M[0, 2] += (tX - eyesCenter[0])\n",
    "    M[1, 2] += (tY - eyesCenter[1])\n",
    "    output = cv2.warpAffine(image, M, (w, h),flags=cv2.INTER_CUBIC)\n",
    "    return output"
   ]
  },
  {
   "cell_type": "code",
   "execution_count": 4,
   "metadata": {},
   "outputs": [],
   "source": [
    "detector = dlib.get_frontal_face_detector()\n",
    "predictor = dlib.shape_predictor('../resources/shape_predictor_68_face_landmarks.dat')"
   ]
  },
  {
   "cell_type": "code",
   "execution_count": 6,
   "metadata": {},
   "outputs": [
    {
     "name": "stdout",
     "output_type": "stream",
     "text": [
      "Sravya_CO_09.jpg\n"
     ]
    },
    {
     "ename": "AttributeError",
     "evalue": "'NoneType' object has no attribute 'shape'",
     "output_type": "error",
     "traceback": [
      "\u001b[0;31m---------------------------------------------------------------------------\u001b[0m",
      "\u001b[0;31mAttributeError\u001b[0m                            Traceback (most recent call last)",
      "\u001b[0;32m<ipython-input-6-017b053f0197>\u001b[0m in \u001b[0;36m<module>\u001b[0;34m\u001b[0m\n\u001b[1;32m      4\u001b[0m         \u001b[0mimage\u001b[0m \u001b[0;34m=\u001b[0m \u001b[0mcv2\u001b[0m\u001b[0;34m.\u001b[0m\u001b[0mimread\u001b[0m\u001b[0;34m(\u001b[0m\u001b[0mimageName\u001b[0m\u001b[0;34m)\u001b[0m\u001b[0;34m\u001b[0m\u001b[0;34m\u001b[0m\u001b[0m\n\u001b[1;32m      5\u001b[0m         \u001b[0mprint\u001b[0m\u001b[0;34m(\u001b[0m\u001b[0mimageName\u001b[0m\u001b[0;34m)\u001b[0m\u001b[0;34m\u001b[0m\u001b[0;34m\u001b[0m\u001b[0m\n\u001b[0;32m----> 6\u001b[0;31m         \u001b[0mimage\u001b[0m \u001b[0;34m=\u001b[0m \u001b[0mimutils\u001b[0m\u001b[0;34m.\u001b[0m\u001b[0mresize\u001b[0m\u001b[0;34m(\u001b[0m\u001b[0mimage\u001b[0m\u001b[0;34m,\u001b[0m \u001b[0mwidth\u001b[0m\u001b[0;34m=\u001b[0m\u001b[0;36m800\u001b[0m\u001b[0;34m)\u001b[0m\u001b[0;34m\u001b[0m\u001b[0;34m\u001b[0m\u001b[0m\n\u001b[0m\u001b[1;32m      7\u001b[0m         \u001b[0mgray\u001b[0m \u001b[0;34m=\u001b[0m \u001b[0mcv2\u001b[0m\u001b[0;34m.\u001b[0m\u001b[0mcvtColor\u001b[0m\u001b[0;34m(\u001b[0m\u001b[0mimage\u001b[0m\u001b[0;34m,\u001b[0m \u001b[0mcv2\u001b[0m\u001b[0;34m.\u001b[0m\u001b[0mCOLOR_BGR2GRAY\u001b[0m\u001b[0;34m)\u001b[0m\u001b[0;34m\u001b[0m\u001b[0;34m\u001b[0m\u001b[0m\n\u001b[1;32m      8\u001b[0m         \u001b[0mcv2\u001b[0m\u001b[0;34m.\u001b[0m\u001b[0mimshow\u001b[0m\u001b[0;34m(\u001b[0m\u001b[0;34m\"Input\"\u001b[0m\u001b[0;34m,\u001b[0m \u001b[0mimage\u001b[0m\u001b[0;34m)\u001b[0m\u001b[0;34m\u001b[0m\u001b[0;34m\u001b[0m\u001b[0m\n",
      "\u001b[0;32m~/anaconda3/lib/python3.7/site-packages/imutils/convenience.py\u001b[0m in \u001b[0;36mresize\u001b[0;34m(image, width, height, inter)\u001b[0m\n\u001b[1;32m     67\u001b[0m     \u001b[0;31m# grab the image size\u001b[0m\u001b[0;34m\u001b[0m\u001b[0;34m\u001b[0m\u001b[0;34m\u001b[0m\u001b[0m\n\u001b[1;32m     68\u001b[0m     \u001b[0mdim\u001b[0m \u001b[0;34m=\u001b[0m \u001b[0;32mNone\u001b[0m\u001b[0;34m\u001b[0m\u001b[0;34m\u001b[0m\u001b[0m\n\u001b[0;32m---> 69\u001b[0;31m     \u001b[0;34m(\u001b[0m\u001b[0mh\u001b[0m\u001b[0;34m,\u001b[0m \u001b[0mw\u001b[0m\u001b[0;34m)\u001b[0m \u001b[0;34m=\u001b[0m \u001b[0mimage\u001b[0m\u001b[0;34m.\u001b[0m\u001b[0mshape\u001b[0m\u001b[0;34m[\u001b[0m\u001b[0;34m:\u001b[0m\u001b[0;36m2\u001b[0m\u001b[0;34m]\u001b[0m\u001b[0;34m\u001b[0m\u001b[0;34m\u001b[0m\u001b[0m\n\u001b[0m\u001b[1;32m     70\u001b[0m \u001b[0;34m\u001b[0m\u001b[0m\n\u001b[1;32m     71\u001b[0m     \u001b[0;31m# if both the width and height are None, then return the\u001b[0m\u001b[0;34m\u001b[0m\u001b[0;34m\u001b[0m\u001b[0;34m\u001b[0m\u001b[0m\n",
      "\u001b[0;31mAttributeError\u001b[0m: 'NoneType' object has no attribute 'shape'"
     ]
    }
   ],
   "source": [
    "for i in range(len(files)) :\n",
    "    images = files[i]\n",
    "    for imageName in images :\n",
    "        filePath = mypath + directories[i] + '/' + imageName\n",
    "        print(filePath)\n",
    "        image = cv2.imread(filePath)\n",
    "        image = imutils.resize(image, width=800)\n",
    "        gray = cv2.cvtColor(image, cv2.COLOR_BGR2GRAY)\n",
    "        rects = detector(gray, 2)\n",
    "        for rect in rects:\n",
    "            (x, y, w, h) = rect_to_bb(rect)\n",
    "            faceOrig = imutils.resize(image[y:y + h, x:x + w], width=256)\n",
    "            faceAligned = scaleImage(predictor,image,gray,rect)\n",
    "            dirName = \"../images/alignedImages/\" + directories[i] \n",
    "            if not os.path.exists(os.path.dirname(dirName)):\n",
    "                os.makedirs(os.path.dirname(dirName))\n",
    "                imwrite(dirName + '/' + imageName , faceAligned)"
   ]
  },
  {
   "cell_type": "code",
   "execution_count": 5,
   "metadata": {},
   "outputs": [],
   "source": []
  }
 ],
 "metadata": {
  "kernelspec": {
   "display_name": "Python 3",
   "language": "python",
   "name": "python3"
  },
  "language_info": {
   "codemirror_mode": {
    "name": "ipython",
    "version": 3
   },
   "file_extension": ".py",
   "mimetype": "text/x-python",
   "name": "python",
   "nbconvert_exporter": "python",
   "pygments_lexer": "ipython3",
   "version": "3.7.4"
  }
 },
 "nbformat": 4,
 "nbformat_minor": 2
}
