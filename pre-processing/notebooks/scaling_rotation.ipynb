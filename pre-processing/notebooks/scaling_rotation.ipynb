{
 "cells": [
  {
   "cell_type": "code",
   "execution_count": null,
   "metadata": {},
   "outputs": [],
   "source": [
    "from imutils import face_utils\n",
    "from imutils.face_utils import rect_to_bb\n",
    "import imutils\n",
    "import dlib\n",
    "import numpy as np\n",
    "import cv2\n",
    "import os\n",
    "from os import listdir\n",
    "from os.path import isfile, join"
   ]
  },
  {
   "cell_type": "code",
   "execution_count": null,
   "metadata": {},
   "outputs": [],
   "source": [
    "mypath = \"../images/prev_class/AVR_data/\"\n",
    "directories = [dir for dir in listdir(mypath)]\n",
    "print(directories)\n",
    "files = []\n",
    "for dir in directories :\n",
    "    files_of_person = [f for f in listdir(mypath + dir)]\n",
    "    files.append(files_of_person)\n",
    "print(files)"
   ]
  },
  {
   "cell_type": "code",
   "execution_count": null,
   "metadata": {},
   "outputs": [],
   "source": [
    "def scaleImage(predictor, image, gray, rect) :\n",
    "    shape = predictor(gray, rect)\n",
    "    shape = face_utils.shape_to_np(shape)\n",
    "    (w, h) = image.shape[:2]\n",
    "    (lStart, lEnd) = face_utils.FACIAL_LANDMARKS_IDXS[\"left_eye\"]\n",
    "    (rStart, rEnd) = face_utils.FACIAL_LANDMARKS_IDXS[\"right_eye\"]\n",
    "    leftEyePts = shape[lStart:lEnd]\n",
    "    rightEyePts = shape[rStart:rEnd]\n",
    "    leftEyeCenter = leftEyePts.mean(axis=0).astype(\"int\")\n",
    "    rightEyeCenter = rightEyePts.mean(axis=0).astype(\"int\")\n",
    "    dY = rightEyeCenter[1] - leftEyeCenter[1]\n",
    "    dX = rightEyeCenter[0] - leftEyeCenter[0]\n",
    "    angle = np.degrees(np.arctan2(dY, dX)) - 180\n",
    "    dist = np.sqrt((dX ** 2) + (dY ** 2))\n",
    "    desiredDist = 128 \n",
    "    scale = desiredDist / dist\n",
    "    eyesCenter = ((leftEyeCenter[0] + rightEyeCenter[0]) // 2,\n",
    "        (leftEyeCenter[1] + rightEyeCenter[1]) // 2)\n",
    "    M = cv2.getRotationMatrix2D(eyesCenter, angle, scale)\n",
    "    tX = w * 0.5\n",
    "    tY = h * 0.35\n",
    "    M[0, 2] += (tX - eyesCenter[0])\n",
    "    M[1, 2] += (tY - eyesCenter[1])\n",
    "    output = cv2.warpAffine(image, M, (w, h),flags=cv2.INTER_CUBIC)\n",
    "    return output"
   ]
  },
  {
   "cell_type": "code",
   "execution_count": 4,
   "metadata": {},
   "outputs": [],
   "source": [
    "detector = dlib.get_frontal_face_detector()\n",
    "predictor = dlib.shape_predictor('../resources/shape_predictor_68_face_landmarks.dat')"
   ]
  },
  {
   "cell_type": "code",
   "execution_count": null,
   "metadata": {},
   "outputs": [],
   "source": [
    "for i in range(len(files)) :\n",
    "    images = files[i]\n",
    "    for imageName in images :\n",
    "        filePath = mypath + directories[i] + '/' + imageName\n",
    "        image = cv2.imread(filePath)\n",
    "        image = imutils.resize(image, width=500)\n",
    "        gray = cv2.cvtColor(image, cv2.COLOR_BGR2GRAY)\n",
    "        rects = detector(gray, 2)\n",
    "        for rect in rects:\n",
    "            (x, y, w, h) = rect_to_bb(rect)\n",
    "            cv2.rectangle(image, (x, y), (x + w, y + h), (0, 255, 0), 2)\n",
    "            cv2.imshow(\"Output\", image)\n",
    "            faceAligned = scaleImage(predictor,image,gray,rect)\n",
    "            dirName = \"../images/alignedImages/\" + directories[i] +'/'\n",
    "            if not os.path.exists(os.path.dirname(dirName)):\n",
    "                os.makedirs(os.path.dirname(dirName))\n",
    "            else : cv2.imwrite(dirName + imageName , faceAligned)"
   ]
  },
  {
   "cell_type": "code",
   "execution_count": null,
   "metadata": {},
   "outputs": [],
   "source": []
  }
 ],
 "metadata": {
  "kernelspec": {
   "display_name": "Python 3",
   "language": "python",
   "name": "python3"
  },
  "language_info": {
   "codemirror_mode": {
    "name": "ipython",
    "version": 3
   },
   "file_extension": ".py",
   "mimetype": "text/x-python",
   "name": "python",
   "nbconvert_exporter": "python",
   "pygments_lexer": "ipython3",
   "version": "3.7.4"
  }
 },
 "nbformat": 4,
 "nbformat_minor": 2
}
