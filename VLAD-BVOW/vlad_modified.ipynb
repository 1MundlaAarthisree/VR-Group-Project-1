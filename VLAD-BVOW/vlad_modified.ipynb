{
 "cells": [
  {
   "cell_type": "code",
   "execution_count": 57,
   "metadata": {},
   "outputs": [],
   "source": [
    "import keras\n",
    "from keras.datasets import cifar10"
   ]
  },
  {
   "cell_type": "code",
   "execution_count": 58,
   "metadata": {
    "scrolled": true
   },
   "outputs": [
    {
     "name": "stdout",
     "output_type": "stream",
     "text": [
      "x_train shape: (50000, 32, 32, 3)\n",
      "50000 train samples\n",
      "10000 test samples\n"
     ]
    }
   ],
   "source": [
    "(x_train, y_train), (x_test, y_test) = cifar10.load_data()\n",
    "print('x_train shape:', x_train.shape)\n",
    "print(x_train.shape[0], 'train samples')\n",
    "print(x_test.shape[0], 'test samples')"
   ]
  },
  {
   "cell_type": "code",
   "execution_count": 59,
   "metadata": {
    "scrolled": true
   },
   "outputs": [
    {
     "name": "stdout",
     "output_type": "stream",
     "text": [
      "(32, 32, 3)\n"
     ]
    }
   ],
   "source": [
    "print(x_train[0].shape)\n",
    "# print(x_test[0])"
   ]
  },
  {
   "cell_type": "code",
   "execution_count": 60,
   "metadata": {},
   "outputs": [],
   "source": [
    "import numpy as np \n",
    "import itertools\n",
    "from sklearn.cluster import KMeans, MiniBatchKMeans\n",
    "from sklearn.neighbors import BallTree\n",
    "from sklearn.metrics import accuracy_score\n",
    "import pickle\n",
    "import glob\n",
    "import cv2"
   ]
  },
  {
   "cell_type": "code",
   "execution_count": 61,
   "metadata": {},
   "outputs": [],
   "source": [
    "def desSURF(image):\n",
    "    surf = cv2.xfeatures2d.SURF_create()\n",
    "    kp, des = surf.detectAndCompute(image,None)\n",
    "    #draw keypoints\n",
    "    #import matplotlib.pyplot as plt\t\t\n",
    "    #img2 = cv2.drawKeypoints(img,kp,None,(255,0,0),4)\n",
    "    #plt.imshow(img2),plt.show()\n",
    "    return kp,des\n",
    "\n",
    "def describeORB( image):\n",
    "    #An efficient alternative to SIFT or SURF\n",
    "    #doc http://docs.opencv.org/3.0-beta/doc/py_tutorials/py_feature2d/py_orb/py_orb.html\n",
    "    #ORB is basically a fusion of FAST keypoint detector and BRIEF descriptor \n",
    "    #with many modifications to enhance the performance\n",
    "    orb=cv2.ORB_create()\n",
    "    kp, des=orb.detectAndCompute(image,None)\n",
    "    return kp,des"
   ]
  },
  {
   "cell_type": "code",
   "execution_count": 62,
   "metadata": {},
   "outputs": [],
   "source": [
    "def getDescriptors(images) : \n",
    "    descriptors = []\n",
    "    \n",
    "    for image in images: \n",
    "        image = cv2.resize(image, (150, 150), interpolation=cv2.INTER_AREA)\n",
    "        kp, des = desSURF(image)\n",
    "        if des is not None : \n",
    "            descriptors.append(des)\n",
    "            \n",
    "#     descriptors = list(itertools.chain.from_iterable(descriptors))\n",
    "    descriptors = np.concatenate(descriptors, axis=0)\n",
    "#     descriptors = np.asarray(descriptors)\n",
    "    print(descriptors)\n",
    "    return descriptors\n",
    "\n",
    "def getVLADDescriptors(images, images_lables, visualDic):\n",
    "    descriptors = []\n",
    "    labels = []\n",
    "    \n",
    "    count = 0\n",
    "    for image in images : \n",
    "        image = cv2.resize(image, (150, 150), interpolation=cv2.INTER_AREA)\n",
    "        kp, des = desSURF(image)\n",
    "        if des is not None : \n",
    "            v = VLAD(des, visualDic)\n",
    "            print(v)\n",
    "            descriptors.append(v)\n",
    "            labels.append(images_lables[count])\n",
    "        count += 1\n",
    "            \n",
    "            \n",
    "#     descriptors = list(itertools.chain.from_iterable(descriptors))\n",
    "#     descriptors = np.asarray(descrip/tors)\n",
    "    print(descriptors)  \n",
    "    return descriptors, labels\n",
    "    \n",
    "def kMeans(training, k) : \n",
    "    est = KMeans(n_clusters = k, init = 'k-means++').fit(training)\n",
    "    return est\n",
    "\n",
    "def VLAD(X, visualDictionary) : \n",
    "    \n",
    "    predictedLabels = visualDictionary.predict(X)\n",
    "    centers = visualDictionary.cluster_centers_\n",
    "    labels = visualDictionary.labels_\n",
    "    k = visualDictionary.n_clusters\n",
    "    \n",
    "    m,d = X.shape\n",
    "    V=np.zeros([k,d])\n",
    "    #computing the differences\n",
    "\n",
    "    # for all the clusters (visual words)\n",
    "    for i in range(k):\n",
    "        # if there is at least one descriptor in that cluster\n",
    "        if np.sum(predictedLabels==i)>0:\n",
    "            # add the diferences\n",
    "            V[i]=np.sum(X[predictedLabels==i,:]-centers[i],axis=0)\n",
    "    \n",
    "\n",
    "    V = V.flatten()\n",
    "    # power normalization, also called square-rooting normalization\n",
    "    V = np.sign(V)*np.sqrt(np.abs(V))\n",
    "\n",
    "    # L2 normalization\n",
    "\n",
    "    V = V/np.sqrt(np.dot(V,V))\n",
    "    return V\n"
   ]
  },
  {
   "cell_type": "code",
   "execution_count": null,
   "metadata": {},
   "outputs": [],
   "source": [
    "sift_des = getDescriptors(np.concatenate((x_train, x_test), axis = 0))\n",
    "# visDic = kMeans(sift_des, 50)\n",
    "\n"
   ]
  },
  {
   "cell_type": "code",
   "execution_count": 39,
   "metadata": {},
   "outputs": [],
   "source": [
    "visDic = MiniBatchKMeans(init='k-means++', n_clusters=50,max_iter=1000, batch_size=1000,\n",
    "                  n_init=10, max_no_improvement=10, verbose=0).fit(sift_des)"
   ]
  },
  {
   "cell_type": "code",
   "execution_count": 47,
   "metadata": {},
   "outputs": [
    {
     "name": "stdout",
     "output_type": "stream",
     "text": [
      "[ 0.          0.          0.         ...  0.00402814 -0.00300329\n",
      "  0.00245246]\n",
      "[ 0.          0.          0.         ...  0.00227313 -0.00166725\n",
      " -0.00369001]\n",
      "[ 0.00337464  0.00654711 -0.00564341 ... -0.00606835 -0.01244579\n",
      " -0.00740522]\n",
      "[ 0.0113909   0.01289919 -0.00948215 ... -0.00166221 -0.0041023\n",
      " -0.00240682]\n",
      "[-0.00485049 -0.00582987  0.00370811 ...  0.01511167  0.01328507\n",
      "  0.00252323]\n",
      "[ 0.00313677  0.0035824  -0.00625016 ...  0.00487102  0.0103457\n",
      "  0.00405396]\n",
      "[0.01225034 0.01124078 0.0058857  ... 0.00555091 0.00228235 0.00373886]\n",
      "[-0.01032174 -0.01327438  0.01496507 ... -0.00953238 -0.00039575\n",
      "  0.00917794]\n",
      "[-0.00738224 -0.00411613 -0.0042253  ...  0.00327297 -0.00812303\n",
      " -0.00670859]\n",
      "[ 0.          0.          0.         ... -0.00556778 -0.00410133\n",
      " -0.00050838]\n",
      "[0.01505653 0.00594996 0.00629351 ... 0.         0.         0.        ]\n",
      "[-0.01032353  0.00331784 -0.00784367 ... -0.01174799 -0.00518778\n",
      "  0.01037191]\n",
      "[ 0.          0.          0.         ...  0.00506117 -0.0084969\n",
      " -0.00782221]\n",
      "[ 0.00109118  0.02042315  0.00457979 ...  0.00717544  0.01119491\n",
      " -0.00766808]\n",
      "[ 0.00462889 -0.00784571 -0.00406073 ...  0.00163381 -0.00246691\n",
      " -0.00439098]\n",
      "[ 0.          0.          0.         ...  0.0006825  -0.00630932\n",
      " -0.00472766]\n",
      "[-0.00916773  0.00504463 -0.00454464 ...  0.00191311 -0.00562986\n",
      " -0.0046888 ]\n",
      "[ 0.0063099   0.00415532 -0.00285756 ... -0.01460139  0.0082709\n",
      "  0.01483706]\n",
      "[ 0.008077   -0.00688637  0.00554947 ...  0.01024106 -0.00441637\n",
      " -0.00853587]\n",
      "[-0.01015917 -0.01209135 -0.00702354 ... -0.00927055  0.00248935\n",
      "  0.0093793 ]\n",
      "[ 0.          0.          0.         ... -0.00543961  0.00757152\n",
      "  0.00996336]\n",
      "[0. 0. 0. ... 0. 0. 0.]\n",
      "[-0.0062391   0.0064304  -0.00804463 ... -0.00430407  0.01103748\n",
      "  0.00470184]\n",
      "[-0.00912742  0.00254643  0.00836361 ...  0.00677364 -0.00541938\n",
      "  0.00321559]\n",
      "[0.00345151 0.00959276 0.00206475 ... 0.01204069 0.01128829 0.01083419]\n",
      "[-0.0079539  -0.02004087  0.0027155  ... -0.00431964 -0.00594922\n",
      " -0.00689349]\n",
      "[-0.00343022 -0.00603987 -0.00570506 ...  0.          0.\n",
      "  0.        ]\n",
      "[-0.00847784  0.00090787  0.00429012 ...  0.          0.\n",
      "  0.        ]\n",
      "[-0.005213   -0.00809197 -0.00418017 ...  0.00368883 -0.00218606\n",
      " -0.00487459]\n",
      "[ 0.          0.          0.         ...  0.00610631 -0.01636919\n",
      " -0.01324617]\n",
      "[-0.0109842   0.00425355  0.01142374 ...  0.          0.\n",
      "  0.        ]\n",
      "[0. 0. 0. ... 0. 0. 0.]\n",
      "[ 0.01087519 -0.01041837  0.00829255 ...  0.01172123 -0.0069282\n",
      " -0.00931597]\n",
      "[ 0.00417685  0.0079777  -0.0080886  ... -0.00180765 -0.00276919\n",
      "  0.00259789]\n",
      "[-0.00314652 -0.00556058 -0.00701787 ...  0.0047092  -0.00781421\n",
      " -0.00166746]\n",
      "[-0.0060945   0.00246825 -0.00680015 ...  0.          0.\n",
      "  0.        ]\n",
      "[0. 0. 0. ... 0. 0. 0.]\n",
      "[ 0.01234157 -0.01044615  0.00517491 ...  0.00507174 -0.00568418\n",
      " -0.00670934]\n",
      "[ 0.          0.          0.         ... -0.00422903  0.01701479\n",
      "  0.01490097]\n",
      "[-0.00123824 -0.00316904 -0.00900525 ...  0.          0.\n",
      "  0.        ]\n",
      "[ 0.01050192  0.00922621  0.00627482 ... -0.00782742  0.01314734\n",
      "  0.00357501]\n",
      "[ 0.          0.          0.         ...  0.00353404 -0.00526809\n",
      " -0.00647523]\n",
      "[ 0.          0.          0.         ...  0.00579493 -0.01094962\n",
      " -0.01054777]\n",
      "[ 0.          0.          0.         ... -0.00220779 -0.00606852\n",
      " -0.00283455]\n",
      "[-0.00890579  0.01120472 -0.00380511 ...  0.00284471 -0.00578083\n",
      "  0.00486072]\n",
      "[-0.00971117 -0.00676698  0.00595882 ... -0.01325371  0.00666937\n",
      "  0.01246982]\n",
      "[ 0.00407843 -0.00509401 -0.00485146 ...  0.00535894  0.00976348\n",
      "  0.0016892 ]\n",
      "[0. 0. 0. ... 0. 0. 0.]\n",
      "[ 0.00587999  0.00827379 -0.00186275 ...  0.          0.\n",
      "  0.        ]\n",
      "[-0.00649548  0.00857439 -0.00495979 ...  0.00617418 -0.00549789\n",
      " -0.00866125]\n",
      "[array([ 0.        ,  0.        ,  0.        , ...,  0.00402814,\n",
      "       -0.00300329,  0.00245246]), array([ 0.        ,  0.        ,  0.        , ...,  0.00227313,\n",
      "       -0.00166725, -0.00369001]), array([ 0.00337464,  0.00654711, -0.00564341, ..., -0.00606835,\n",
      "       -0.01244579, -0.00740522]), array([ 0.0113909 ,  0.01289919, -0.00948215, ..., -0.00166221,\n",
      "       -0.0041023 , -0.00240682]), array([-0.00485049, -0.00582987,  0.00370811, ...,  0.01511167,\n",
      "        0.01328507,  0.00252323]), array([ 0.00313677,  0.0035824 , -0.00625016, ...,  0.00487102,\n",
      "        0.0103457 ,  0.00405396]), array([0.01225034, 0.01124078, 0.0058857 , ..., 0.00555091, 0.00228235,\n",
      "       0.00373886]), array([-0.01032174, -0.01327438,  0.01496507, ..., -0.00953238,\n",
      "       -0.00039575,  0.00917794]), array([-0.00738224, -0.00411613, -0.0042253 , ...,  0.00327297,\n",
      "       -0.00812303, -0.00670859]), array([ 0.        ,  0.        ,  0.        , ..., -0.00556778,\n",
      "       -0.00410133, -0.00050838]), array([0.01505653, 0.00594996, 0.00629351, ..., 0.        , 0.        ,\n",
      "       0.        ]), array([-0.01032353,  0.00331784, -0.00784367, ..., -0.01174799,\n",
      "       -0.00518778,  0.01037191]), array([ 0.        ,  0.        ,  0.        , ...,  0.00506117,\n",
      "       -0.0084969 , -0.00782221]), array([ 0.00109118,  0.02042315,  0.00457979, ...,  0.00717544,\n",
      "        0.01119491, -0.00766808]), array([ 0.00462889, -0.00784571, -0.00406073, ...,  0.00163381,\n",
      "       -0.00246691, -0.00439098]), array([ 0.        ,  0.        ,  0.        , ...,  0.0006825 ,\n",
      "       -0.00630932, -0.00472766]), array([-0.00916773,  0.00504463, -0.00454464, ...,  0.00191311,\n",
      "       -0.00562986, -0.0046888 ]), array([ 0.0063099 ,  0.00415532, -0.00285756, ..., -0.01460139,\n",
      "        0.0082709 ,  0.01483706]), array([ 0.008077  , -0.00688637,  0.00554947, ...,  0.01024106,\n",
      "       -0.00441637, -0.00853587]), array([-0.01015917, -0.01209135, -0.00702354, ..., -0.00927055,\n",
      "        0.00248935,  0.0093793 ]), array([ 0.        ,  0.        ,  0.        , ..., -0.00543961,\n",
      "        0.00757152,  0.00996336]), array([0., 0., 0., ..., 0., 0., 0.]), array([-0.0062391 ,  0.0064304 , -0.00804463, ..., -0.00430407,\n",
      "        0.01103748,  0.00470184]), array([-0.00912742,  0.00254643,  0.00836361, ...,  0.00677364,\n",
      "       -0.00541938,  0.00321559]), array([0.00345151, 0.00959276, 0.00206475, ..., 0.01204069, 0.01128829,\n",
      "       0.01083419]), array([-0.0079539 , -0.02004087,  0.0027155 , ..., -0.00431964,\n",
      "       -0.00594922, -0.00689349]), array([-0.00343022, -0.00603987, -0.00570506, ...,  0.        ,\n",
      "        0.        ,  0.        ]), array([-0.00847784,  0.00090787,  0.00429012, ...,  0.        ,\n",
      "        0.        ,  0.        ]), array([-0.005213  , -0.00809197, -0.00418017, ...,  0.00368883,\n",
      "       -0.00218606, -0.00487459]), array([ 0.        ,  0.        ,  0.        , ...,  0.00610631,\n",
      "       -0.01636919, -0.01324617]), array([-0.0109842 ,  0.00425355,  0.01142374, ...,  0.        ,\n",
      "        0.        ,  0.        ]), array([0., 0., 0., ..., 0., 0., 0.]), array([ 0.01087519, -0.01041837,  0.00829255, ...,  0.01172123,\n",
      "       -0.0069282 , -0.00931597]), array([ 0.00417685,  0.0079777 , -0.0080886 , ..., -0.00180765,\n",
      "       -0.00276919,  0.00259789]), array([-0.00314652, -0.00556058, -0.00701787, ...,  0.0047092 ,\n",
      "       -0.00781421, -0.00166746]), array([-0.0060945 ,  0.00246825, -0.00680015, ...,  0.        ,\n",
      "        0.        ,  0.        ]), array([0., 0., 0., ..., 0., 0., 0.]), array([ 0.01234157, -0.01044615,  0.00517491, ...,  0.00507174,\n",
      "       -0.00568418, -0.00670934]), array([ 0.        ,  0.        ,  0.        , ..., -0.00422903,\n",
      "        0.01701479,  0.01490097]), array([-0.00123824, -0.00316904, -0.00900525, ...,  0.        ,\n",
      "        0.        ,  0.        ]), array([ 0.01050192,  0.00922621,  0.00627482, ..., -0.00782742,\n",
      "        0.01314734,  0.00357501]), array([ 0.        ,  0.        ,  0.        , ...,  0.00353404,\n",
      "       -0.00526809, -0.00647523]), array([ 0.        ,  0.        ,  0.        , ...,  0.00579493,\n",
      "       -0.01094962, -0.01054777]), array([ 0.        ,  0.        ,  0.        , ..., -0.00220779,\n",
      "       -0.00606852, -0.00283455]), array([-0.00890579,  0.01120472, -0.00380511, ...,  0.00284471,\n",
      "       -0.00578083,  0.00486072]), array([-0.00971117, -0.00676698,  0.00595882, ..., -0.01325371,\n",
      "        0.00666937,  0.01246982]), array([ 0.00407843, -0.00509401, -0.00485146, ...,  0.00535894,\n",
      "        0.00976348,  0.0016892 ]), array([0., 0., 0., ..., 0., 0., 0.]), array([ 0.00587999,  0.00827379, -0.00186275, ...,  0.        ,\n",
      "        0.        ,  0.        ]), array([-0.00649548,  0.00857439, -0.00495979, ...,  0.00617418,\n",
      "       -0.00549789, -0.00866125])]\n",
      "Hola\n",
      "[-0.00376843  0.00919388 -0.00387494 ...  0.          0.\n",
      "  0.        ]\n",
      "[ 0.          0.          0.         ... -0.00384034  0.01593267\n",
      " -0.00651   ]\n",
      "[0.         0.         0.         ... 0.00661785 0.00568032 0.00417203]\n",
      "[ 0.          0.          0.         ...  0.006991   -0.01233984\n",
      " -0.01196469]\n",
      "[ 0.01190786 -0.00854592 -0.00649288 ...  0.          0.\n",
      "  0.        ]\n",
      "[0.         0.         0.         ... 0.00894574 0.01309462 0.00940632]\n",
      "[-0.0027049   0.0101185  -0.00408843 ...  0.00644828 -0.00492553\n",
      " -0.00101565]\n",
      "[ 0.01506916 -0.00661954  0.00947701 ...  0.          0.\n",
      "  0.        ]\n",
      "[-0.00131547  0.00724319  0.00754407 ... -0.00876134 -0.00454397\n",
      "  0.00512449]\n",
      "[-0.01326589  0.00776738 -0.00286283 ... -0.01162935  0.00562258\n",
      "  0.01073602]\n",
      "[array([-0.00376843,  0.00919388, -0.00387494, ...,  0.        ,\n",
      "        0.        ,  0.        ]), array([ 0.        ,  0.        ,  0.        , ..., -0.00384034,\n",
      "        0.01593267, -0.00651   ]), array([0.        , 0.        , 0.        , ..., 0.00661785, 0.00568032,\n",
      "       0.00417203]), array([ 0.        ,  0.        ,  0.        , ...,  0.006991  ,\n",
      "       -0.01233984, -0.01196469]), array([ 0.01190786, -0.00854592, -0.00649288, ...,  0.        ,\n",
      "        0.        ,  0.        ]), array([0.        , 0.        , 0.        , ..., 0.00894574, 0.01309462,\n",
      "       0.00940632]), array([-0.0027049 ,  0.0101185 , -0.00408843, ...,  0.00644828,\n",
      "       -0.00492553, -0.00101565]), array([ 0.01506916, -0.00661954,  0.00947701, ...,  0.        ,\n",
      "        0.        ,  0.        ]), array([-0.00131547,  0.00724319,  0.00754407, ..., -0.00876134,\n",
      "       -0.00454397,  0.00512449]), array([-0.01326589,  0.00776738, -0.00286283, ..., -0.01162935,\n"
     ]
    },
    {
     "name": "stdout",
     "output_type": "stream",
     "text": [
      "        0.00562258,  0.01073602])]\n"
     ]
    }
   ],
   "source": [
    "vlad_des, labels = getVLADDescriptors(x_train, y_train, visDic)\n",
    "print (\"Hola\")\n",
    "vlad_des_test, labels_test = getVLADDescriptors(x_test, y_test, visDic)"
   ]
  },
  {
   "cell_type": "code",
   "execution_count": 49,
   "metadata": {},
   "outputs": [
    {
     "data": {
      "text/plain": [
       "True"
      ]
     },
     "execution_count": 49,
     "metadata": {},
     "output_type": "execute_result"
    }
   ],
   "source": [
    "clf = cv2.ml.KNearest_create()\n",
    "clf.train(np.float32(vlad_des), cv2.ml.ROW_SAMPLE, np.float32(labels))\n"
   ]
  },
  {
   "cell_type": "code",
   "execution_count": 51,
   "metadata": {},
   "outputs": [],
   "source": [
    "ret, results, neighbours ,dist = clf.findNearest(np.float32(vlad_des_test), k=10)"
   ]
  },
  {
   "cell_type": "code",
   "execution_count": 52,
   "metadata": {},
   "outputs": [
    {
     "name": "stdout",
     "output_type": "stream",
     "text": [
      "[[1.]\n",
      " [0.]\n",
      " [7.]\n",
      " [0.]\n",
      " [1.]\n",
      " [3.]\n",
      " [3.]\n",
      " [3.]\n",
      " [2.]\n",
      " [3.]]\n",
      "[array([3]), array([8]), array([8]), array([0]), array([6]), array([6]), array([1]), array([6]), array([3]), array([1])]\n"
     ]
    }
   ],
   "source": [
    "print (results)\n",
    "print (labels_test)"
   ]
  },
  {
   "cell_type": "code",
   "execution_count": 56,
   "metadata": {},
   "outputs": [
    {
     "name": "stdout",
     "output_type": "stream",
     "text": [
      "[[3]\n",
      " [8]\n",
      " [8]\n",
      " [0]\n",
      " [6]\n",
      " [6]\n",
      " [1]\n",
      " [6]\n",
      " [3]\n",
      " [1]]\n",
      "[1, 0, 7, 0, 1, 3, 3, 3, 2, 3]\n"
     ]
    },
    {
     "data": {
      "text/plain": [
       "0.1"
      ]
     },
     "execution_count": 56,
     "metadata": {},
     "output_type": "execute_result"
    }
   ],
   "source": [
    "pred_label = []\n",
    "\n",
    "for label in results:\n",
    "    pred_label.append(int(label))\n",
    "\n",
    "print (y_test)\n",
    "print (pred_label)\n",
    "    \n",
    "accuracy_score(y_test, pred_label)"
   ]
  },
  {
   "cell_type": "code",
   "execution_count": null,
   "metadata": {},
   "outputs": [],
   "source": []
  }
 ],
 "metadata": {
  "kernelspec": {
   "display_name": "Python 3",
   "language": "python",
   "name": "python3"
  },
  "language_info": {
   "codemirror_mode": {
    "name": "ipython",
    "version": 3
   },
   "file_extension": ".py",
   "mimetype": "text/x-python",
   "name": "python",
   "nbconvert_exporter": "python",
   "pygments_lexer": "ipython3",
   "version": "3.7.4"
  }
 },
 "nbformat": 4,
 "nbformat_minor": 2
}
